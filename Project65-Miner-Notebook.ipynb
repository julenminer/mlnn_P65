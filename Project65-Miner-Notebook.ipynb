{
 "cells": [
  {
   "cell_type": "markdown",
   "metadata": {},
   "source": [
    "# Project 65: Convolutional neural networks for text classification\n",
    "\n",
    "### Author:  Julen Miner Goñi\n",
    "\n",
    "### Objectives:\n",
    "\n",
    "-  use convolutional neural networks to classify different (text) documents in 20 classes.\n",
    "\n",
    "### What is done in the Notebook: \n",
    "\n",
    "-  collect the data from the files\n",
    "-  preprocess the data (using word embeddings)\n",
    "-  implement a CNN and train with the train data\n",
    "-  show the results of the training\n",
    "-  analyze and contrast the results of the testing\n",
    "\n",
    "The data and models files can be downloaded from my GitHub:\n",
    "- https://github.com/julenminer/mlnn_P65.git\n",
    "\n",
    "The word embedding files can be downloaded from the links that are given below."
   ]
  },
  {
   "cell_type": "markdown",
   "metadata": {},
   "source": [
    "## Importing the libraries"
   ]
  },
  {
   "cell_type": "code",
   "execution_count": 1,
   "metadata": {},
   "outputs": [
    {
     "name": "stderr",
     "output_type": "stream",
     "text": [
      "Using TensorFlow backend.\n",
      "[nltk_data] Downloading package stopwords to /Users/julen/nltk_data...\n",
      "[nltk_data]   Package stopwords is already up-to-date!\n"
     ]
    },
    {
     "data": {
      "text/plain": [
       "True"
      ]
     },
     "execution_count": 1,
     "metadata": {},
     "output_type": "execute_result"
    }
   ],
   "source": [
    "# General and preproccesing of the data\n",
    "import numpy as np\n",
    "import os, pickle, re, string\n",
    "\n",
    "# Preprocessing and processing of the data\n",
    "from nltk.corpus import stopwords\n",
    "from keras.callbacks import ModelCheckpoint, TensorBoard\n",
    "from keras.preprocessing.text import Tokenizer\n",
    "from keras.preprocessing.sequence import pad_sequences\n",
    "from keras.models import load_model\n",
    "from keras import optimizers\n",
    "from keras.utils import plot_model, to_categorical\n",
    "from sklearn.model_selection import train_test_split\n",
    "\n",
    "# To show the plots\n",
    "import matplotlib.pyplot as plt\n",
    "\n",
    "# Processing of the data\n",
    "from keras.layers import Activation, Input, Dense, Dropout, Embedding\n",
    "import gensim\n",
    "from keras.layers.convolutional import SeparableConv1D\n",
    "from keras.layers import GlobalMaxPooling1D\n",
    "from keras.layers.merge import concatenate\n",
    "from keras.models import Model\n",
    "from keras import initializers\n",
    "from keras import backend as K\n",
    "\n",
    "# Preprocessing of the data. The first time that the model is executed, the stopwords\n",
    "# have to be downloaded, otherwise, theya won't be downloaded as it is already done\n",
    "import nltk\n",
    "nltk.download('stopwords')"
   ]
  },
  {
   "cell_type": "markdown",
   "metadata": {},
   "source": [
    "### Defining of parameters\n",
    "Some initial parameters defined for this project."
   ]
  },
  {
   "cell_type": "code",
   "execution_count": 2,
   "metadata": {},
   "outputs": [],
   "source": [
    "# Maximum number of words\n",
    "MAX_NUM_WORDS   = 15000\n",
    "# Dimenstion of the word embedding\n",
    "EMBEDDING_DIM   = 300\n",
    "# Maximum length for the vectors\n",
    "# This number was selected as the mean length is 273\n",
    "MAX_SEQ_LENGTH  = 500\n",
    "\n",
    "# For the CNN and the data\n",
    "FILTER_SIZES    = [3,4,5]\n",
    "FEATURE_MAPS    = [200,200,200]\n",
    "DROPOUT_RATE    = 0.4\n",
    "HIDDEN_UNITS    = 200\n",
    "NB_CLASSES      = 20\n",
    "\n",
    "# LEARNING\n",
    "BATCH_SIZE      = 100\n",
    "NB_EPOCHS_SMALL = 10\n",
    "NB_EPOCHS       = 40\n",
    "VAL_SIZE        = 0.2"
   ]
  },
  {
   "cell_type": "markdown",
   "metadata": {},
   "source": [
    "## Preprocessing of the data"
   ]
  },
  {
   "cell_type": "markdown",
   "metadata": {},
   "source": [
    "### Functions for the files\n",
    "These functions are used to obtain the strings from the files and clean them."
   ]
  },
  {
   "cell_type": "code",
   "execution_count": 3,
   "metadata": {},
   "outputs": [],
   "source": [
    "# This function lowercases the text, removes extra whitespaces,\n",
    "# stopwords, punctuations and short words \n",
    "def clean_doc(doc):\n",
    "    # Define the english stopwords\n",
    "    stop_words = set(stopwords.words('english'))\n",
    "    # Lowercase\n",
    "    doc = doc.lower()\n",
    "    # Split in tokens\n",
    "    tokens = doc.split()\n",
    "    # Remove Stopwords\n",
    "    tokens = [w for w in tokens if not w in stop_words] \n",
    "    # Remove punctuation\n",
    "    tokens = [w.translate(str.maketrans('', '', string.punctuation)) for w in tokens]\n",
    "    # Tokens with less then two characters will be ignored\n",
    "    tokens = [word for word in tokens if len(word) > 1]\n",
    "    return ' '.join(tokens)\n",
    "\n",
    "# This function, given a path, reads all of the documents that are in it\n",
    "def read_files(path):\n",
    "    documents = list()\n",
    "    # Read in all files in directory\n",
    "    if os.path.isdir(path):\n",
    "        for filename in os.listdir(path):\n",
    "            with open('%s/%s' % (path, filename)) as f:\n",
    "                doc = f.read()\n",
    "                doc = clean_doc(doc)\n",
    "                documents.append(doc)\n",
    "    \n",
    "    # Read in all lines in a txt file\n",
    "    if os.path.isfile(path):        \n",
    "        with open(path, encoding='utf-8') as f:\n",
    "            doc = f.readlines()\n",
    "            for line in doc:\n",
    "                documents.append(clean_doc(line))\n",
    "    return documents"
   ]
  },
  {
   "cell_type": "markdown",
   "metadata": {},
   "source": [
    "### Getting the text from the files\n",
    "\n",
    "All of the files are loaded and stored in individual variables. Then, the labels are computed using the length of the previously computed variables."
   ]
  },
  {
   "cell_type": "code",
   "execution_count": 4,
   "metadata": {},
   "outputs": [
    {
     "name": "stdout",
     "output_type": "stream",
     "text": [
      "Training samples: 10723\n"
     ]
    }
   ],
   "source": [
    "# Load the files from the folders\n",
    "doc1 = read_files(\"./data/20news-bydate-train/alt.atheism\")\n",
    "doc2 = read_files(\"./data/20news-bydate-train/comp.graphics\")\n",
    "doc3 = read_files(\"./data/20news-bydate-train/comp.os.windows.misc\")\n",
    "doc4 = read_files(\"./data/20news-bydate-train/comp.sys.ibm.pc.hardware\")\n",
    "doc5 = read_files(\"./data/20news-bydate-train/comp.sys.mac.hardware\")\n",
    "doc6 = read_files(\"./data/20news-bydate-train/comp.windows.x\")\n",
    "doc7 = read_files(\"./data/20news-bydate-train/misc.forsale\")\n",
    "doc8 = read_files(\"./data/20news-bydate-train/rec.autos\")\n",
    "doc9 = read_files(\"./data/20news-bydate-train/rec.motorcycles\")\n",
    "doc10 = read_files(\"./data/20news-bydate-train/rec.sport.baseball\")\n",
    "doc11 = read_files(\"./data/20news-bydate-train/rec.sport.hockey\")\n",
    "doc12 = read_files(\"./data/20news-bydate-train/sci.crypt\")\n",
    "doc13 = read_files(\"./data/20news-bydate-train/sci.electronics\")\n",
    "doc14 = read_files(\"./data/20news-bydate-train/sci.med\")\n",
    "doc15 = read_files(\"./data/20news-bydate-train/sci.space\")\n",
    "doc16 = read_files(\"./data/20news-bydate-train/soc.religion.christian\")\n",
    "doc17 = read_files(\"./data/20news-bydate-train/talk.politics.guns\")\n",
    "doc18 = read_files(\"./data/20news-bydate-train/talk.politics.mideast\")\n",
    "doc19 = read_files(\"./data/20news-bydate-train/talk.politics.misc\")\n",
    "doc20 = read_files(\"./data/20news-bydate-train/talk.religion.misc\")\n",
    "\n",
    "# Join all of the documents\n",
    "docs   = doc1 + doc2 + doc3 + doc4 + doc5 + doc6 + doc7 + doc8 + doc9 + \\\n",
    "    doc10 + doc11 + doc12 + doc13 + doc14 + doc15 + doc16 + doc17 + doc18 + doc19 + doc20\n",
    "\n",
    "# Assign the corresponding labels \n",
    "labels = [0 for _ in range(len(doc1))] + [1 for _ in range(len(doc2))] + [2 for _ in range(len(doc3))] \\\n",
    "    + [3 for _ in range(len(doc4))] + [4 for _ in range(len(doc5))] + [5 for _ in range(len(doc6))] \\\n",
    "    + [6 for _ in range(len(doc7))] + [7 for _ in range(len(doc8))] + [8 for _ in range(len(doc9))] \\\n",
    "    + [9 for _ in range(len(doc10))] + [10 for _ in range(len(doc11))] + [11 for _ in range(len(doc12))] \\\n",
    "    + [12 for _ in range(len(doc13))] + [13 for _ in range(len(doc14))] + [14 for _ in range(len(doc15))] \\\n",
    "    + [15 for _ in range(len(doc16))] + [16 for _ in range(len(doc17))] + [17 for _ in range(len(doc18))] \\\n",
    "    + [18 for _ in range(len(doc19))] + [19 for _ in range(len(doc20))]\n",
    "\n",
    "# This function converts a class vector (integers) to binary class matrix.\n",
    "# This is to use categorical crossentropy later.\n",
    "labels = to_categorical(labels)\n",
    "print('Training samples: %i' % len(docs))"
   ]
  },
  {
   "cell_type": "markdown",
   "metadata": {},
   "source": [
    "### Tokenization of the sentences\n",
    "\n",
    "Thanks to his, the text of the documents will be vectorized, each word will be in a position of an array. The word index is also computed (also called dictionary), each word will have a number assigned. This is used lated for the embedding layers."
   ]
  },
  {
   "cell_type": "code",
   "execution_count": 5,
   "metadata": {},
   "outputs": [
    {
     "name": "stdout",
     "output_type": "stream",
     "text": [
      "Text informations:\n",
      "max length: 7055 / min length: 12 / mean length: 168 / limit length: 500\n",
      "vacobulary size: 118469 / limit: 15000\n"
     ]
    }
   ],
   "source": [
    "# Create a tokenizer\n",
    "tokenizer = Tokenizer(num_words=MAX_NUM_WORDS)\n",
    "# Tokenize all the documents\n",
    "tokenizer.fit_on_texts(docs)\n",
    "sequences = tokenizer.texts_to_sequences(docs)\n",
    "\n",
    "# Obtain the word index\n",
    "word_index = tokenizer.word_index\n",
    "\n",
    "# Print some information of the documents\n",
    "result = [len(x.split()) for x in docs]\n",
    "print('Text informations:')\n",
    "print('max length: %i / min length: %i / mean length: %i / limit length: %i' % (np.max(result),\n",
    "                                                                                np.min(result),\n",
    "                                                                                np.mean(result),\n",
    "                                                                                MAX_SEQ_LENGTH))\n",
    "print('vacobulary size: %i / limit: %i' % (len(word_index), MAX_NUM_WORDS))\n",
    "\n",
    "# Padding all sequences to same length of 'MAX_SEQ_LENGTH'\n",
    "data = pad_sequences(sequences, maxlen=MAX_SEQ_LENGTH, padding='post')"
   ]
  },
  {
   "cell_type": "markdown",
   "metadata": {},
   "source": [
    "### Word embeddings"
   ]
  },
  {
   "cell_type": "markdown",
   "metadata": {},
   "source": [
    "The following two functions will be used to load the embeddings index from the vectors that are on a given path and to load the embedding matrix (used to create the embedding layer) given an embeddings index."
   ]
  },
  {
   "cell_type": "code",
   "execution_count": 6,
   "metadata": {},
   "outputs": [],
   "source": [
    "# Given a path, this function will read all the lines\n",
    "# and store the value of each word in the embeddings index\n",
    "def load_vector(path):\n",
    "    embeddings_index = {}\n",
    "    f = open(path)\n",
    "    for line in f:\n",
    "        values = line.split()\n",
    "        word = values[0]\n",
    "        coefs = np.asarray(values[1:], dtype='float32')\n",
    "        embeddings_index[word] = coefs\n",
    "    f.close()\n",
    "    return embeddings_index\n",
    "\n",
    "# Given a embeddings index, this function will compute\n",
    "# the embedding matrix of all the words in the word index (dictionary)\n",
    "def load_embedding_matrix(embeddings_index):\n",
    "    embedding_matrix = np.zeros((MAX_NUM_WORDS, EMBEDDING_DIM))\n",
    "    for word, i in tokenizer.word_index.items():\n",
    "        if i >= MAX_NUM_WORDS:\n",
    "            continue\n",
    "        try:\n",
    "            embedding_vector = embeddings_index[word]\n",
    "        except:\n",
    "            # If a word is not found, the value will be None\n",
    "            embedding_vector = None\n",
    "        if embedding_vector is not None:\n",
    "            embedding_matrix[i] = embedding_vector\n",
    "    return embedding_matrix"
   ]
  },
  {
   "cell_type": "markdown",
   "metadata": {},
   "source": [
    "The file of the GloVe embeddings can be downloaded from:\n",
    "- http://nlp.stanford.edu/data/glove.6B.zip\n",
    "\n",
    "The download will start when you click the link."
   ]
  },
  {
   "cell_type": "code",
   "execution_count": 7,
   "metadata": {},
   "outputs": [
    {
     "name": "stdout",
     "output_type": "stream",
     "text": [
      "Loading GloVe pretrained embeddings\n"
     ]
    }
   ],
   "source": [
    "print('Loading GloVe pretrained embeddings')\n",
    "\n",
    "# Load the GloVe embedding\n",
    "embeddings_index_glove = load_vector('embeddings/glove.6B.%id.txt' % EMBEDDING_DIM)\n",
    "embedding_matrix_glove = load_embedding_matrix(embeddings_index_glove)\n",
    "\n",
    "# Create the embedding layer for the GloVe embedding matrix\n",
    "embedding_layer_glove = Embedding(\n",
    "    input_dim=MAX_NUM_WORDS,\n",
    "    output_dim=EMBEDDING_DIM,\n",
    "    input_length=MAX_SEQ_LENGTH,\n",
    "    weights=[embedding_matrix_glove],\n",
    "    trainable=True,\n",
    "    name=\"word_embedding\"\n",
    ")"
   ]
  },
  {
   "cell_type": "markdown",
   "metadata": {},
   "source": [
    "The file of the Google's word2vec embeddings can be downloaded from:\n",
    "- https://drive.google.com/file/d/0B7XkCwpI5KDYNlNUTTlSS21pQmM/edit?usp=sharing\n",
    "\n",
    "The download will start when you click the link."
   ]
  },
  {
   "cell_type": "code",
   "execution_count": 8,
   "metadata": {},
   "outputs": [
    {
     "name": "stdout",
     "output_type": "stream",
     "text": [
      "Loading Google's word2vec pretrained embeddings\n"
     ]
    }
   ],
   "source": [
    "print('Loading Google\\'s word2vec pretrained embeddings')\n",
    "\n",
    "# Load Google's vector using gensim word2vec \n",
    "embeddings_index_google = gensim.models.KeyedVectors.load_word2vec_format('embeddings/GoogleNews-vectors-negative300.bin', binary=True)  \n",
    "embedding_matrix_google = load_embedding_matrix(embeddings_index_google)\n",
    "\n",
    "# Create the embedding layer for Google's embedding matrix\n",
    "embedding_layer_google = Embedding(\n",
    "    input_dim=MAX_NUM_WORDS,\n",
    "    output_dim=EMBEDDING_DIM,\n",
    "    input_length=MAX_SEQ_LENGTH,\n",
    "    weights=[embedding_matrix_google],\n",
    "    trainable=True,\n",
    "    name=\"word_embedding\"\n",
    ")"
   ]
  },
  {
   "cell_type": "markdown",
   "metadata": {},
   "source": [
    "The file of the FastText's WikiNews embeddings can be downloaded from:\n",
    "- https://s3-us-west-1.amazonaws.com/fasttext-vectors/wiki-news-300d-1M.vec.zip\n",
    "\n",
    "The download will start when you click the link."
   ]
  },
  {
   "cell_type": "code",
   "execution_count": 9,
   "metadata": {},
   "outputs": [
    {
     "name": "stdout",
     "output_type": "stream",
     "text": [
      "Loading FastText's WikiNews pretrained embeddings\n"
     ]
    }
   ],
   "source": [
    "print('Loading FastText\\'s WikiNews pretrained embeddings')\n",
    "\n",
    "# Load the WikiNews embedding\n",
    "embeddings_index_wikinews = load_vector('embeddings/wiki-news-300d-1M.vec')\n",
    "embedding_matrix_wikinews = load_embedding_matrix(embeddings_index_wikinews)\n",
    "\n",
    "# Create the embedding layer for the WikiNews embedding matrix\n",
    "embedding_layer_wikinews = Embedding(\n",
    "    input_dim=MAX_NUM_WORDS,\n",
    "    output_dim=EMBEDDING_DIM,\n",
    "    input_length=MAX_SEQ_LENGTH,\n",
    "    weights=[embedding_matrix_wikinews],\n",
    "    trainable=True,\n",
    "    name=\"word_embedding\"\n",
    ")"
   ]
  },
  {
   "cell_type": "markdown",
   "metadata": {},
   "source": [
    "The file of the FastText's WikiNews embeddings can be downloaded from:\n",
    "- https://s3-us-west-1.amazonaws.com/fasttext-vectors/crawl-300d-2M.vec.zip\n",
    "\n",
    "The download will start when you click the link."
   ]
  },
  {
   "cell_type": "code",
   "execution_count": 10,
   "metadata": {},
   "outputs": [
    {
     "name": "stdout",
     "output_type": "stream",
     "text": [
      "Loading FastText's Crawl pretrained embeddings\n"
     ]
    }
   ],
   "source": [
    "print('Loading FastText\\'s Crawl pretrained embeddings')\n",
    "\n",
    "# Load the Crawl embedding\n",
    "embeddings_index_crawl = load_vector('embeddings/crawl-300d-2M.vec')\n",
    "embedding_matrix_crawl = load_embedding_matrix(embeddings_index_crawl)\n",
    "\n",
    "# Create the embedding layer for the Crawl embedding matrix\n",
    "embedding_layer_crawl = Embedding(\n",
    "    input_dim=MAX_NUM_WORDS,\n",
    "    output_dim=EMBEDDING_DIM,\n",
    "    input_length=MAX_SEQ_LENGTH,\n",
    "    weights=[embedding_matrix_crawl],\n",
    "    trainable=True,\n",
    "    name=\"word_embedding\"\n",
    ")"
   ]
  },
  {
   "cell_type": "markdown",
   "metadata": {},
   "source": [
    "## Processing of the data"
   ]
  },
  {
   "cell_type": "markdown",
   "metadata": {},
   "source": [
    "### Definition of the model"
   ]
  },
  {
   "cell_type": "markdown",
   "metadata": {},
   "source": [
    "The following three functions are used to create the convolutional neural networks. The function that is used later is the one named create_model. This function has the embedding layer as a parameter, since that is going to be the main difference of the models."
   ]
  },
  {
   "cell_type": "code",
   "execution_count": 11,
   "metadata": {},
   "outputs": [],
   "source": [
    "# Creates several CNN channels and concatenate them\n",
    "def building_block(input_layer, filter_sizes, feature_maps):\n",
    "    channels = []\n",
    "    for ix in range(len(FILTER_SIZES)):\n",
    "        x = create_channel(input_layer, filter_sizes[ix], feature_maps[ix])\n",
    "        channels.append(x)\n",
    "\n",
    "    # Checks how many channels, one channel doesn't need a concatenation\n",
    "    if (len(channels)>1):\n",
    "        x = concatenate(channels)\n",
    "    return x\n",
    "\n",
    "\n",
    "# Creates a layer\n",
    "def create_channel(x, filter_size, feature_map):\n",
    "    x = SeparableConv1D(feature_map, kernel_size=filter_size, activation='relu', strides=1, padding='same',\n",
    "                        depth_multiplier=4)(x)\n",
    "    x = GlobalMaxPooling1D()(x)\n",
    "    x = Dense(HIDDEN_UNITS)(x)\n",
    "    x = Dropout(DROPOUT_RATE)(x)\n",
    "    return x\n",
    "\n",
    "# Creates the model\n",
    "def create_model(embedding_layer):\n",
    "    # Defines the input of the model\n",
    "    word_input = Input(shape=(MAX_SEQ_LENGTH,), dtype='int32', name='word_input')\n",
    "    # Defines the first embedding layer that has the previously defined word input as input\n",
    "    x = embedding_layer(word_input)\n",
    "    x = Dropout(DROPOUT_RATE)(x)\n",
    "    x = building_block(x, FILTER_SIZES, FEATURE_MAPS)\n",
    "    x = Activation('relu')(x)\n",
    "    prediction = Dense(NB_CLASSES, activation='softmax')(x)\n",
    "    model = Model(inputs=word_input, outputs=prediction)\n",
    "    return model"
   ]
  },
  {
   "cell_type": "markdown",
   "metadata": {},
   "source": [
    "### Training of the models with 10 epochs\n",
    "\n",
    "In this section, four models are created with different embedding layers. The training of this models is done with 10 epochs."
   ]
  },
  {
   "cell_type": "code",
   "execution_count": 61,
   "metadata": {},
   "outputs": [],
   "source": [
    "# Create an array to store the performances of the models\n",
    "histories_10 = []"
   ]
  },
  {
   "cell_type": "markdown",
   "metadata": {},
   "source": [
    "The main training data obtained from the documents is divided into train and validation data. The size of the validation data is the 20% of the original training data."
   ]
  },
  {
   "cell_type": "code",
   "execution_count": 62,
   "metadata": {},
   "outputs": [],
   "source": [
    "random_state = np.random.randint(1000)\n",
    "\n",
    "# Dividing between train and validation data\n",
    "X_train, X_val, y_train, y_val = train_test_split(data, labels, test_size=VAL_SIZE, random_state=random_state)"
   ]
  },
  {
   "cell_type": "markdown",
   "metadata": {},
   "source": [
    "The four models follow the same instructions:\n",
    "- the model is created with the corresponding embedding layer\n",
    "- the model is compiled using categorical crossentropy and Adam Optimizer \n",
    "- the training data is fitted in the model in 10 epochs and the validation data is validated\n",
    "- when the fitting finishes, the model is saved (in order to use it in other moment, it will not be needed to compute again)\n",
    "- the performance is saved"
   ]
  },
  {
   "cell_type": "code",
   "execution_count": 63,
   "metadata": {},
   "outputs": [
    {
     "name": "stdout",
     "output_type": "stream",
     "text": [
      "First model, using GloVe word embedding\n",
      "Train on 8578 samples, validate on 2145 samples\n",
      "Epoch 1/10\n",
      "8578/8578 [==============================] - 218s 25ms/step - loss: 2.5248 - acc: 0.2292 - val_loss: 1.5423 - val_acc: 0.5506\n",
      "\n",
      "Epoch 00001: val_loss improved from inf to 1.54232, saving model to models/model_glove_10\n",
      "Epoch 2/10\n",
      "8578/8578 [==============================] - 208s 24ms/step - loss: 1.0890 - acc: 0.6353 - val_loss: 0.7495 - val_acc: 0.7660\n",
      "\n",
      "Epoch 00002: val_loss improved from 1.54232 to 0.74946, saving model to models/model_glove_10\n",
      "Epoch 3/10\n",
      "8578/8578 [==============================] - 211s 25ms/step - loss: 0.6047 - acc: 0.8065 - val_loss: 0.5496 - val_acc: 0.8387\n",
      "\n",
      "Epoch 00003: val_loss improved from 0.74946 to 0.54956, saving model to models/model_glove_10\n",
      "Epoch 4/10\n",
      "8578/8578 [==============================] - 208s 24ms/step - loss: 0.4044 - acc: 0.8732 - val_loss: 0.4472 - val_acc: 0.8653\n",
      "\n",
      "Epoch 00004: val_loss improved from 0.54956 to 0.44722, saving model to models/model_glove_10\n",
      "Epoch 5/10\n",
      "8578/8578 [==============================] - 207s 24ms/step - loss: 0.2508 - acc: 0.9259 - val_loss: 0.3930 - val_acc: 0.8834\n",
      "\n",
      "Epoch 00005: val_loss improved from 0.44722 to 0.39300, saving model to models/model_glove_10\n",
      "Epoch 6/10\n",
      "8578/8578 [==============================] - 207s 24ms/step - loss: 0.1702 - acc: 0.9491 - val_loss: 0.3675 - val_acc: 0.8886\n",
      "\n",
      "Epoch 00006: val_loss improved from 0.39300 to 0.36747, saving model to models/model_glove_10\n",
      "Epoch 7/10\n",
      "8578/8578 [==============================] - 208s 24ms/step - loss: 0.1135 - acc: 0.9653 - val_loss: 0.3578 - val_acc: 0.8988\n",
      "\n",
      "Epoch 00007: val_loss improved from 0.36747 to 0.35777, saving model to models/model_glove_10\n",
      "Epoch 8/10\n",
      "8578/8578 [==============================] - 208s 24ms/step - loss: 0.0722 - acc: 0.9799 - val_loss: 0.3750 - val_acc: 0.8988\n",
      "\n",
      "Epoch 00008: val_loss did not improve from 0.35777\n",
      "Epoch 9/10\n",
      "8578/8578 [==============================] - 207s 24ms/step - loss: 0.0492 - acc: 0.9860 - val_loss: 0.3708 - val_acc: 0.9063\n",
      "\n",
      "Epoch 00009: val_loss did not improve from 0.35777\n",
      "Epoch 10/10\n",
      "8578/8578 [==============================] - 207s 24ms/step - loss: 0.0323 - acc: 0.9937 - val_loss: 0.3828 - val_acc: 0.9026\n",
      "\n",
      "Epoch 00010: val_loss did not improve from 0.35777\n"
     ]
    }
   ],
   "source": [
    "print('First model, using GloVe word embedding')\n",
    "\n",
    "model_glove_10 = create_model(embedding_layer_glove)\n",
    "model_glove_10.compile(\n",
    "    loss='categorical_crossentropy',\n",
    "    optimizer=optimizers.Adam(),\n",
    "    metrics=['accuracy']\n",
    ")\n",
    "\n",
    "history = model_glove_10.fit(\n",
    "    X_train, y_train,\n",
    "    epochs=NB_EPOCHS_SMALL,\n",
    "    batch_size=BATCH_SIZE,\n",
    "    verbose=1,\n",
    "    validation_data=(X_val, y_val),\n",
    "    callbacks=[ # Save the model in a file in the same directory as this notebook\n",
    "        ModelCheckpoint(\n",
    "            'models/model_glove_10', monitor='val_loss', verbose=1, save_best_only=True, mode='min'\n",
    "        ),\n",
    "    ]\n",
    ")\n",
    "\n",
    "histories_10.append(history.history)"
   ]
  },
  {
   "cell_type": "code",
   "execution_count": 64,
   "metadata": {},
   "outputs": [
    {
     "name": "stdout",
     "output_type": "stream",
     "text": [
      "Second model, using Google's word2vec word embedding\n",
      "Train on 8578 samples, validate on 2145 samples\n",
      "Epoch 1/10\n",
      "8578/8578 [==============================] - 215s 25ms/step - loss: 2.7539 - acc: 0.1697 - val_loss: 1.9064 - val_acc: 0.5254\n",
      "\n",
      "Epoch 00001: val_loss improved from inf to 1.90641, saving model to models/model_google_10\n",
      "Epoch 2/10\n",
      "8578/8578 [==============================] - 207s 24ms/step - loss: 1.2065 - acc: 0.6075 - val_loss: 0.7641 - val_acc: 0.7403\n",
      "\n",
      "Epoch 00002: val_loss improved from 1.90641 to 0.76407, saving model to models/model_google_10\n",
      "Epoch 3/10\n",
      "8578/8578 [==============================] - 207s 24ms/step - loss: 0.6022 - acc: 0.8051 - val_loss: 0.5443 - val_acc: 0.8312\n",
      "\n",
      "Epoch 00003: val_loss improved from 0.76407 to 0.54431, saving model to models/model_google_10\n",
      "Epoch 4/10\n",
      "8578/8578 [==============================] - 207s 24ms/step - loss: 0.3329 - acc: 0.8985 - val_loss: 0.4296 - val_acc: 0.8737\n",
      "\n",
      "Epoch 00004: val_loss improved from 0.54431 to 0.42964, saving model to models/model_google_10\n",
      "Epoch 5/10\n",
      "8578/8578 [==============================] - 207s 24ms/step - loss: 0.1797 - acc: 0.9481 - val_loss: 0.3955 - val_acc: 0.8811\n",
      "\n",
      "Epoch 00005: val_loss improved from 0.42964 to 0.39546, saving model to models/model_google_10\n",
      "Epoch 6/10\n",
      "8578/8578 [==============================] - 207s 24ms/step - loss: 0.0975 - acc: 0.9734 - val_loss: 0.3835 - val_acc: 0.8984\n",
      "\n",
      "Epoch 00006: val_loss improved from 0.39546 to 0.38354, saving model to models/model_google_10\n",
      "Epoch 7/10\n",
      "8578/8578 [==============================] - 207s 24ms/step - loss: 0.0577 - acc: 0.9848 - val_loss: 0.3855 - val_acc: 0.9021\n",
      "\n",
      "Epoch 00007: val_loss did not improve from 0.38354\n",
      "Epoch 8/10\n",
      "8578/8578 [==============================] - 207s 24ms/step - loss: 0.0334 - acc: 0.9930 - val_loss: 0.3925 - val_acc: 0.9063\n",
      "\n",
      "Epoch 00008: val_loss did not improve from 0.38354\n",
      "Epoch 9/10\n",
      "8578/8578 [==============================] - 208s 24ms/step - loss: 0.0224 - acc: 0.9948 - val_loss: 0.4077 - val_acc: 0.9030\n",
      "\n",
      "Epoch 00009: val_loss did not improve from 0.38354\n",
      "Epoch 10/10\n",
      "8578/8578 [==============================] - 207s 24ms/step - loss: 0.0141 - acc: 0.9976 - val_loss: 0.4201 - val_acc: 0.9040\n",
      "\n",
      "Epoch 00010: val_loss did not improve from 0.38354\n"
     ]
    }
   ],
   "source": [
    "print('Second model, using Google\\'s word2vec word embedding')\n",
    "\n",
    "model_google_10 = create_model(embedding_layer_google)\n",
    "model_google_10.compile(\n",
    "    loss='categorical_crossentropy',\n",
    "    optimizer=optimizers.Adam(),\n",
    "    metrics=['accuracy']\n",
    ")\n",
    "\n",
    "history = model_google_10.fit(\n",
    "    X_train, y_train,\n",
    "    epochs=NB_EPOCHS_SMALL,\n",
    "    batch_size=BATCH_SIZE,\n",
    "    verbose=1,\n",
    "    validation_data=(X_val, y_val),\n",
    "    callbacks=[ # Save the model in a file in the same directory as this notebook\n",
    "        ModelCheckpoint(\n",
    "            'models/model_google_10', monitor='val_loss', verbose=1, save_best_only=True, mode='min'\n",
    "        ),\n",
    "    ]\n",
    ")\n",
    "\n",
    "histories_10.append(history.history)"
   ]
  },
  {
   "cell_type": "code",
   "execution_count": 65,
   "metadata": {},
   "outputs": [
    {
     "name": "stdout",
     "output_type": "stream",
     "text": [
      "Third model, using FastText's WikiNews word embedding\n",
      "Train on 8578 samples, validate on 2145 samples\n",
      "Epoch 1/10\n",
      "8578/8578 [==============================] - 209s 24ms/step - loss: 2.8434 - acc: 0.1321 - val_loss: 2.2190 - val_acc: 0.4107\n",
      "\n",
      "Epoch 00001: val_loss improved from inf to 2.21897, saving model to models/model_wikinews_10\n",
      "Epoch 2/10\n",
      "8578/8578 [==============================] - 208s 24ms/step - loss: 1.2244 - acc: 0.6097 - val_loss: 0.6855 - val_acc: 0.7711\n",
      "\n",
      "Epoch 00002: val_loss improved from 2.21897 to 0.68550, saving model to models/model_wikinews_10\n",
      "Epoch 3/10\n",
      "8578/8578 [==============================] - 209s 24ms/step - loss: 0.4868 - acc: 0.8460 - val_loss: 0.4521 - val_acc: 0.8578\n",
      "\n",
      "Epoch 00003: val_loss improved from 0.68550 to 0.45213, saving model to models/model_wikinews_10\n",
      "Epoch 4/10\n",
      "8578/8578 [==============================] - 208s 24ms/step - loss: 0.2269 - acc: 0.9358 - val_loss: 0.3822 - val_acc: 0.8858\n",
      "\n",
      "Epoch 00004: val_loss improved from 0.45213 to 0.38221, saving model to models/model_wikinews_10\n",
      "Epoch 5/10\n",
      "8578/8578 [==============================] - 207s 24ms/step - loss: 0.1101 - acc: 0.9706 - val_loss: 0.3804 - val_acc: 0.8914\n",
      "\n",
      "Epoch 00005: val_loss improved from 0.38221 to 0.38040, saving model to models/model_wikinews_10\n",
      "Epoch 6/10\n",
      "8578/8578 [==============================] - 207s 24ms/step - loss: 0.0524 - acc: 0.9885 - val_loss: 0.3903 - val_acc: 0.9007\n",
      "\n",
      "Epoch 00006: val_loss did not improve from 0.38040\n",
      "Epoch 7/10\n",
      "8578/8578 [==============================] - 207s 24ms/step - loss: 0.0278 - acc: 0.9944 - val_loss: 0.4006 - val_acc: 0.8974\n",
      "\n",
      "Epoch 00007: val_loss did not improve from 0.38040\n",
      "Epoch 8/10\n",
      "8578/8578 [==============================] - 208s 24ms/step - loss: 0.0169 - acc: 0.9970 - val_loss: 0.4107 - val_acc: 0.9026\n",
      "\n",
      "Epoch 00008: val_loss did not improve from 0.38040\n",
      "Epoch 9/10\n",
      "8578/8578 [==============================] - 208s 24ms/step - loss: 0.0105 - acc: 0.9984 - val_loss: 0.4191 - val_acc: 0.9040\n",
      "\n",
      "Epoch 00009: val_loss did not improve from 0.38040\n",
      "Epoch 10/10\n",
      "8578/8578 [==============================] - 207s 24ms/step - loss: 0.0083 - acc: 0.9987 - val_loss: 0.4486 - val_acc: 0.8993\n",
      "\n",
      "Epoch 00010: val_loss did not improve from 0.38040\n"
     ]
    }
   ],
   "source": [
    "print('Third model, using FastText\\'s WikiNews word embedding')\n",
    "\n",
    "model_wikinews_10 = create_model(embedding_layer_wikinews)\n",
    "model_wikinews_10.compile(\n",
    "    loss='categorical_crossentropy',\n",
    "    optimizer=optimizers.Adam(),\n",
    "    metrics=['accuracy']\n",
    ")\n",
    "\n",
    "history = model_wikinews_10.fit(\n",
    "    X_train, y_train,\n",
    "    epochs=NB_EPOCHS_SMALL,\n",
    "    batch_size=BATCH_SIZE,\n",
    "    verbose=1,\n",
    "    validation_data=(X_val, y_val),\n",
    "    callbacks=[ # Save the model in a file in the same directory as this notebook\n",
    "        ModelCheckpoint(\n",
    "            'models/model_wikinews_10', monitor='val_loss', verbose=1, save_best_only=True, mode='min'\n",
    "        ),\n",
    "    ]\n",
    ")\n",
    "\n",
    "histories_10.append(history.history)"
   ]
  },
  {
   "cell_type": "code",
   "execution_count": 66,
   "metadata": {},
   "outputs": [
    {
     "name": "stdout",
     "output_type": "stream",
     "text": [
      "Fourth model, using FastText's Crawl word embedding\n",
      "Train on 8578 samples, validate on 2145 samples\n",
      "Epoch 1/10\n",
      "8578/8578 [==============================] - 211s 25ms/step - loss: 2.5867 - acc: 0.2405 - val_loss: 1.5095 - val_acc: 0.5455\n",
      "\n",
      "Epoch 00001: val_loss improved from inf to 1.50950, saving model to models/model_crawl_10\n",
      "Epoch 2/10\n",
      "8578/8578 [==============================] - 209s 24ms/step - loss: 0.9868 - acc: 0.6745 - val_loss: 0.6291 - val_acc: 0.8103\n",
      "\n",
      "Epoch 00002: val_loss improved from 1.50950 to 0.62908, saving model to models/model_crawl_10\n",
      "Epoch 3/10\n",
      "8578/8578 [==============================] - 208s 24ms/step - loss: 0.5151 - acc: 0.8342 - val_loss: 0.4669 - val_acc: 0.8564\n",
      "\n",
      "Epoch 00003: val_loss improved from 0.62908 to 0.46687, saving model to models/model_crawl_10\n",
      "Epoch 4/10\n",
      "8578/8578 [==============================] - 208s 24ms/step - loss: 0.3213 - acc: 0.9039 - val_loss: 0.3912 - val_acc: 0.8769\n",
      "\n",
      "Epoch 00004: val_loss improved from 0.46687 to 0.39124, saving model to models/model_crawl_10\n",
      "Epoch 5/10\n",
      "8578/8578 [==============================] - 208s 24ms/step - loss: 0.2006 - acc: 0.9389 - val_loss: 0.3391 - val_acc: 0.8988\n",
      "\n",
      "Epoch 00005: val_loss improved from 0.39124 to 0.33909, saving model to models/model_crawl_10\n",
      "Epoch 6/10\n",
      "8578/8578 [==============================] - 209s 24ms/step - loss: 0.1267 - acc: 0.9629 - val_loss: 0.3267 - val_acc: 0.9049\n",
      "\n",
      "Epoch 00006: val_loss improved from 0.33909 to 0.32669, saving model to models/model_crawl_10\n",
      "Epoch 7/10\n",
      "8578/8578 [==============================] - 208s 24ms/step - loss: 0.0745 - acc: 0.9812 - val_loss: 0.3206 - val_acc: 0.9124\n",
      "\n",
      "Epoch 00007: val_loss improved from 0.32669 to 0.32065, saving model to models/model_crawl_10\n",
      "Epoch 8/10\n",
      "8578/8578 [==============================] - 208s 24ms/step - loss: 0.0467 - acc: 0.9878 - val_loss: 0.3296 - val_acc: 0.9156\n",
      "\n",
      "Epoch 00008: val_loss did not improve from 0.32065\n",
      "Epoch 9/10\n",
      "8578/8578 [==============================] - 209s 24ms/step - loss: 0.0326 - acc: 0.9932 - val_loss: 0.3452 - val_acc: 0.9096\n",
      "\n",
      "Epoch 00009: val_loss did not improve from 0.32065\n",
      "Epoch 10/10\n",
      "8578/8578 [==============================] - 207s 24ms/step - loss: 0.0224 - acc: 0.9949 - val_loss: 0.3510 - val_acc: 0.9133\n",
      "\n",
      "Epoch 00010: val_loss did not improve from 0.32065\n"
     ]
    }
   ],
   "source": [
    "print('Fourth model, using FastText\\'s Crawl word embedding')\n",
    "\n",
    "model_crawl_10 = create_model(embedding_layer_crawl)\n",
    "model_crawl_10.compile(\n",
    "    loss='categorical_crossentropy',\n",
    "    optimizer=optimizers.Adam(),\n",
    "    metrics=['accuracy']\n",
    ")\n",
    "\n",
    "history = model_crawl_10.fit(\n",
    "    X_train, y_train,\n",
    "    epochs=NB_EPOCHS_SMALL,\n",
    "    batch_size=BATCH_SIZE,\n",
    "    verbose=1,\n",
    "    validation_data=(X_val, y_val),\n",
    "    callbacks=[ # Save the model in a file in the same directory as this notebook\n",
    "        ModelCheckpoint(\n",
    "            'models/model_crawl_10', monitor='val_loss', verbose=1, save_best_only=True, mode='min'\n",
    "        ),\n",
    "    ]\n",
    ")\n",
    "\n",
    "histories_10.append(history.history)"
   ]
  },
  {
   "cell_type": "code",
   "execution_count": 67,
   "metadata": {},
   "outputs": [],
   "source": [
    "# Save the history in a file in the same directory as this notebook to load it later\n",
    "with open('history_10.pkl', 'wb') as f:\n",
    "    pickle.dump(histories_10, f)"
   ]
  },
  {
   "cell_type": "markdown",
   "metadata": {},
   "source": [
    "### Training of the models with 40 epochs\n",
    "\n",
    "The following cells are the same as the ones above, the difference is that the training process on this models is done in 40 epochs."
   ]
  },
  {
   "cell_type": "code",
   "execution_count": 71,
   "metadata": {},
   "outputs": [],
   "source": [
    "histories = []"
   ]
  },
  {
   "cell_type": "code",
   "execution_count": 14,
   "metadata": {},
   "outputs": [],
   "source": [
    "random_state = np.random.randint(1000)\n",
    "\n",
    "# Dividing between train and validation data\n",
    "X_train, X_val, y_train, y_val = train_test_split(data, labels, test_size=VAL_SIZE, random_state=random_state)"
   ]
  },
  {
   "cell_type": "code",
   "execution_count": 73,
   "metadata": {},
   "outputs": [
    {
     "name": "stdout",
     "output_type": "stream",
     "text": [
      "First model, using GloVe word embedding\n",
      "Train on 8578 samples, validate on 2145 samples\n",
      "Epoch 1/40\n",
      "8578/8578 [==============================] - 216s 25ms/step - loss: 2.2476 - acc: 0.3631 - val_loss: 0.8691 - val_acc: 0.7809\n",
      "\n",
      "Epoch 00001: val_loss improved from inf to 0.86912, saving model to models/model_glove\n",
      "Epoch 2/40\n",
      "8578/8578 [==============================] - 210s 25ms/step - loss: 0.5246 - acc: 0.8460 - val_loss: 0.3376 - val_acc: 0.9054\n",
      "\n",
      "Epoch 00002: val_loss improved from 0.86912 to 0.33762, saving model to models/model_glove\n",
      "Epoch 3/40\n",
      "8578/8578 [==============================] - 209s 24ms/step - loss: 0.2224 - acc: 0.9347 - val_loss: 0.2487 - val_acc: 0.9282\n",
      "\n",
      "Epoch 00003: val_loss improved from 0.33762 to 0.24874, saving model to models/model_glove\n",
      "Epoch 4/40\n",
      "8578/8578 [==============================] - 210s 24ms/step - loss: 0.1291 - acc: 0.9632 - val_loss: 0.2096 - val_acc: 0.9408\n",
      "\n",
      "Epoch 00004: val_loss improved from 0.24874 to 0.20962, saving model to models/model_glove\n",
      "Epoch 5/40\n",
      "8578/8578 [==============================] - 209s 24ms/step - loss: 0.0764 - acc: 0.9791 - val_loss: 0.2004 - val_acc: 0.9417\n",
      "\n",
      "Epoch 00005: val_loss improved from 0.20962 to 0.20042, saving model to models/model_glove\n",
      "Epoch 6/40\n",
      "8578/8578 [==============================] - 209s 24ms/step - loss: 0.0545 - acc: 0.9859 - val_loss: 0.1973 - val_acc: 0.9413\n",
      "\n",
      "Epoch 00006: val_loss improved from 0.20042 to 0.19728, saving model to models/model_glove\n",
      "Epoch 7/40\n",
      "8578/8578 [==============================] - 210s 24ms/step - loss: 0.0357 - acc: 0.9902 - val_loss: 0.1824 - val_acc: 0.9455\n",
      "\n",
      "Epoch 00007: val_loss improved from 0.19728 to 0.18243, saving model to models/model_glove\n",
      "Epoch 8/40\n",
      "8578/8578 [==============================] - 209s 24ms/step - loss: 0.0295 - acc: 0.9922 - val_loss: 0.1898 - val_acc: 0.9487\n",
      "\n",
      "Epoch 00008: val_loss did not improve from 0.18243\n",
      "Epoch 9/40\n",
      "8578/8578 [==============================] - 209s 24ms/step - loss: 0.0230 - acc: 0.9944 - val_loss: 0.1835 - val_acc: 0.9510\n",
      "\n",
      "Epoch 00009: val_loss did not improve from 0.18243\n",
      "Epoch 10/40\n",
      "8578/8578 [==============================] - 209s 24ms/step - loss: 0.0161 - acc: 0.9958 - val_loss: 0.2160 - val_acc: 0.9408\n",
      "\n",
      "Epoch 00010: val_loss did not improve from 0.18243\n",
      "Epoch 11/40\n",
      "8578/8578 [==============================] - 209s 24ms/step - loss: 0.0127 - acc: 0.9972 - val_loss: 0.2011 - val_acc: 0.9445\n",
      "\n",
      "Epoch 00011: val_loss did not improve from 0.18243\n",
      "Epoch 12/40\n",
      "8578/8578 [==============================] - 210s 24ms/step - loss: 0.0090 - acc: 0.9986 - val_loss: 0.2348 - val_acc: 0.9464\n",
      "\n",
      "Epoch 00012: val_loss did not improve from 0.18243\n",
      "Epoch 13/40\n",
      "8578/8578 [==============================] - 209s 24ms/step - loss: 0.0133 - acc: 0.9967 - val_loss: 0.2137 - val_acc: 0.9487\n",
      "\n",
      "Epoch 00013: val_loss did not improve from 0.18243\n",
      "Epoch 14/40\n",
      "8578/8578 [==============================] - 210s 24ms/step - loss: 0.0074 - acc: 0.9988 - val_loss: 0.2100 - val_acc: 0.9455\n",
      "\n",
      "Epoch 00014: val_loss did not improve from 0.18243\n",
      "Epoch 15/40\n",
      "8578/8578 [==============================] - 210s 24ms/step - loss: 0.0057 - acc: 0.9986 - val_loss: 0.2149 - val_acc: 0.9487\n",
      "\n",
      "Epoch 00015: val_loss did not improve from 0.18243\n",
      "Epoch 16/40\n",
      "8578/8578 [==============================] - 210s 24ms/step - loss: 0.0078 - acc: 0.9978 - val_loss: 0.2164 - val_acc: 0.9492\n",
      "\n",
      "Epoch 00016: val_loss did not improve from 0.18243\n",
      "Epoch 17/40\n",
      "8578/8578 [==============================] - 209s 24ms/step - loss: 0.0080 - acc: 0.9978 - val_loss: 0.2187 - val_acc: 0.9455\n",
      "\n",
      "Epoch 00017: val_loss did not improve from 0.18243\n",
      "Epoch 18/40\n",
      "8578/8578 [==============================] - 210s 24ms/step - loss: 0.0050 - acc: 0.9991 - val_loss: 0.2201 - val_acc: 0.9464\n",
      "\n",
      "Epoch 00018: val_loss did not improve from 0.18243\n",
      "Epoch 19/40\n",
      "8578/8578 [==============================] - 210s 24ms/step - loss: 0.0058 - acc: 0.9987 - val_loss: 0.2455 - val_acc: 0.9427\n",
      "\n",
      "Epoch 00019: val_loss did not improve from 0.18243\n",
      "Epoch 20/40\n",
      "8578/8578 [==============================] - 209s 24ms/step - loss: 0.0069 - acc: 0.9979 - val_loss: 0.2650 - val_acc: 0.9385\n",
      "\n",
      "Epoch 00020: val_loss did not improve from 0.18243\n",
      "Epoch 21/40\n",
      "8578/8578 [==============================] - 210s 25ms/step - loss: 0.0058 - acc: 0.9984 - val_loss: 0.2513 - val_acc: 0.9450\n",
      "\n",
      "Epoch 00021: val_loss did not improve from 0.18243\n",
      "Epoch 22/40\n",
      "8578/8578 [==============================] - 211s 25ms/step - loss: 0.0053 - acc: 0.9985 - val_loss: 0.2692 - val_acc: 0.9403\n",
      "\n",
      "Epoch 00022: val_loss did not improve from 0.18243\n",
      "Epoch 23/40\n",
      "8578/8578 [==============================] - 209s 24ms/step - loss: 0.0071 - acc: 0.9979 - val_loss: 0.2642 - val_acc: 0.9441\n",
      "\n",
      "Epoch 00023: val_loss did not improve from 0.18243\n",
      "Epoch 24/40\n",
      "8578/8578 [==============================] - 209s 24ms/step - loss: 0.0064 - acc: 0.9985 - val_loss: 0.3384 - val_acc: 0.9361\n",
      "\n",
      "Epoch 00024: val_loss did not improve from 0.18243\n",
      "Epoch 25/40\n",
      "8578/8578 [==============================] - 208s 24ms/step - loss: 0.0114 - acc: 0.9972 - val_loss: 0.2634 - val_acc: 0.9422\n",
      "\n",
      "Epoch 00025: val_loss did not improve from 0.18243\n",
      "Epoch 26/40\n",
      "8578/8578 [==============================] - 209s 24ms/step - loss: 0.0077 - acc: 0.9979 - val_loss: 0.2878 - val_acc: 0.9431\n",
      "\n",
      "Epoch 00026: val_loss did not improve from 0.18243\n",
      "Epoch 27/40\n",
      "8578/8578 [==============================] - 209s 24ms/step - loss: 0.0056 - acc: 0.9991 - val_loss: 0.2837 - val_acc: 0.9394\n",
      "\n",
      "Epoch 00027: val_loss did not improve from 0.18243\n",
      "Epoch 28/40\n",
      "8578/8578 [==============================] - 209s 24ms/step - loss: 0.0078 - acc: 0.9973 - val_loss: 0.3069 - val_acc: 0.9366\n",
      "\n",
      "Epoch 00028: val_loss did not improve from 0.18243\n",
      "Epoch 29/40\n",
      "8578/8578 [==============================] - 209s 24ms/step - loss: 0.0049 - acc: 0.9986 - val_loss: 0.2796 - val_acc: 0.9427\n",
      "\n",
      "Epoch 00029: val_loss did not improve from 0.18243\n",
      "Epoch 30/40\n",
      "8578/8578 [==============================] - 254s 30ms/step - loss: 0.0032 - acc: 0.9994 - val_loss: 0.3111 - val_acc: 0.9380\n",
      "\n",
      "Epoch 00030: val_loss did not improve from 0.18243\n",
      "Epoch 31/40\n",
      "8578/8578 [==============================] - 264s 31ms/step - loss: 0.0058 - acc: 0.9987 - val_loss: 0.2988 - val_acc: 0.9403\n",
      "\n",
      "Epoch 00031: val_loss did not improve from 0.18243\n",
      "Epoch 32/40\n",
      "8578/8578 [==============================] - 260s 30ms/step - loss: 0.0045 - acc: 0.9987 - val_loss: 0.2947 - val_acc: 0.9417\n",
      "\n",
      "Epoch 00032: val_loss did not improve from 0.18243\n",
      "Epoch 33/40\n",
      "8578/8578 [==============================] - 260s 30ms/step - loss: 0.0041 - acc: 0.9990 - val_loss: 0.2994 - val_acc: 0.9399\n",
      "\n",
      "Epoch 00033: val_loss did not improve from 0.18243\n",
      "Epoch 34/40\n",
      "8578/8578 [==============================] - 263s 31ms/step - loss: 0.0033 - acc: 0.9991 - val_loss: 0.3064 - val_acc: 0.9427\n",
      "\n",
      "Epoch 00034: val_loss did not improve from 0.18243\n",
      "Epoch 35/40\n",
      "8578/8578 [==============================] - 259s 30ms/step - loss: 0.0060 - acc: 0.9985 - val_loss: 0.2964 - val_acc: 0.9422\n",
      "\n",
      "Epoch 00035: val_loss did not improve from 0.18243\n",
      "Epoch 36/40\n",
      "8578/8578 [==============================] - 251s 29ms/step - loss: 0.0026 - acc: 0.9994 - val_loss: 0.2950 - val_acc: 0.9431\n",
      "\n",
      "Epoch 00036: val_loss did not improve from 0.18243\n",
      "Epoch 37/40\n",
      "8578/8578 [==============================] - 259s 30ms/step - loss: 0.0044 - acc: 0.9985 - val_loss: 0.3229 - val_acc: 0.9403\n",
      "\n",
      "Epoch 00037: val_loss did not improve from 0.18243\n",
      "Epoch 38/40\n",
      "8578/8578 [==============================] - 259s 30ms/step - loss: 0.0052 - acc: 0.9983 - val_loss: 0.3188 - val_acc: 0.9385\n",
      "\n",
      "Epoch 00038: val_loss did not improve from 0.18243\n",
      "Epoch 39/40\n",
      "8578/8578 [==============================] - 256s 30ms/step - loss: 0.0077 - acc: 0.9973 - val_loss: 0.3341 - val_acc: 0.9371\n",
      "\n",
      "Epoch 00039: val_loss did not improve from 0.18243\n",
      "Epoch 40/40\n",
      "8578/8578 [==============================] - 261s 30ms/step - loss: 0.0087 - acc: 0.9970 - val_loss: 0.3630 - val_acc: 0.9352\n",
      "\n",
      "Epoch 00040: val_loss did not improve from 0.18243\n"
     ]
    }
   ],
   "source": [
    "print('First model, using GloVe word embedding')\n",
    "\n",
    "model_glove = create_model(embedding_layer_glove)\n",
    "model_glove.compile(\n",
    "    loss='categorical_crossentropy',\n",
    "    optimizer=optimizers.Adam(),\n",
    "    metrics=['accuracy']\n",
    ")\n",
    "\n",
    "history = model_glove.fit(\n",
    "    X_train, y_train,\n",
    "    epochs=NB_EPOCHS,\n",
    "    batch_size=BATCH_SIZE,\n",
    "    verbose=1,\n",
    "    validation_data=(X_val, y_val),\n",
    "    callbacks=[ # Save the model in a file in the same directory as this notebook\n",
    "        ModelCheckpoint(\n",
    "            'models/model_glove', monitor='val_loss', verbose=1, save_best_only=True, mode='min'\n",
    "        ),\n",
    "    ]\n",
    ")\n",
    "\n",
    "histories.append(history.history)"
   ]
  },
  {
   "cell_type": "code",
   "execution_count": 74,
   "metadata": {
    "scrolled": true
   },
   "outputs": [
    {
     "name": "stdout",
     "output_type": "stream",
     "text": [
      "Second model, using Google's word2vec word embedding\n",
      "Train on 8578 samples, validate on 2145 samples\n",
      "Epoch 1/40\n",
      "8578/8578 [==============================] - 257s 30ms/step - loss: 2.2317 - acc: 0.3929 - val_loss: 0.6595 - val_acc: 0.8653\n",
      "\n",
      "Epoch 00001: val_loss improved from inf to 0.65949, saving model to models/model_google\n",
      "Epoch 2/40\n",
      "8578/8578 [==============================] - 254s 30ms/step - loss: 0.3521 - acc: 0.8996 - val_loss: 0.2475 - val_acc: 0.9305\n",
      "\n",
      "Epoch 00002: val_loss improved from 0.65949 to 0.24751, saving model to models/model_google\n",
      "Epoch 3/40\n",
      "8578/8578 [==============================] - 262s 31ms/step - loss: 0.1332 - acc: 0.9642 - val_loss: 0.1738 - val_acc: 0.9510\n",
      "\n",
      "Epoch 00003: val_loss improved from 0.24751 to 0.17382, saving model to models/model_google\n",
      "Epoch 4/40\n",
      "8578/8578 [==============================] - 256s 30ms/step - loss: 0.0641 - acc: 0.9834 - val_loss: 0.1739 - val_acc: 0.9538\n",
      "\n",
      "Epoch 00004: val_loss did not improve from 0.17382\n",
      "Epoch 5/40\n",
      "8578/8578 [==============================] - 258s 30ms/step - loss: 0.0371 - acc: 0.9909 - val_loss: 0.1837 - val_acc: 0.9487\n",
      "\n",
      "Epoch 00005: val_loss did not improve from 0.17382\n",
      "Epoch 6/40\n",
      "8578/8578 [==============================] - 210s 25ms/step - loss: 0.0264 - acc: 0.9931 - val_loss: 0.1685 - val_acc: 0.9529\n",
      "\n",
      "Epoch 00006: val_loss improved from 0.17382 to 0.16853, saving model to models/model_google\n",
      "Epoch 7/40\n",
      "8578/8578 [==============================] - 209s 24ms/step - loss: 0.0141 - acc: 0.9974 - val_loss: 0.1728 - val_acc: 0.9552\n",
      "\n",
      "Epoch 00007: val_loss did not improve from 0.16853\n",
      "Epoch 8/40\n",
      "8578/8578 [==============================] - 236s 28ms/step - loss: 0.0094 - acc: 0.9981 - val_loss: 0.1876 - val_acc: 0.9548\n",
      "\n",
      "Epoch 00008: val_loss did not improve from 0.16853\n",
      "Epoch 9/40\n",
      "8578/8578 [==============================] - 246s 29ms/step - loss: 0.0099 - acc: 0.9977 - val_loss: 0.1900 - val_acc: 0.9520\n",
      "\n",
      "Epoch 00009: val_loss did not improve from 0.16853\n",
      "Epoch 10/40\n",
      "8578/8578 [==============================] - 257s 30ms/step - loss: 0.0077 - acc: 0.9991 - val_loss: 0.1819 - val_acc: 0.9529\n",
      "\n",
      "Epoch 00010: val_loss did not improve from 0.16853\n",
      "Epoch 11/40\n",
      "8578/8578 [==============================] - 251s 29ms/step - loss: 0.0057 - acc: 0.9986 - val_loss: 0.2009 - val_acc: 0.9552\n",
      "\n",
      "Epoch 00011: val_loss did not improve from 0.16853\n",
      "Epoch 12/40\n",
      "8578/8578 [==============================] - 251s 29ms/step - loss: 0.0053 - acc: 0.9991 - val_loss: 0.1975 - val_acc: 0.9524\n",
      "\n",
      "Epoch 00012: val_loss did not improve from 0.16853\n",
      "Epoch 13/40\n",
      "8578/8578 [==============================] - 252s 29ms/step - loss: 0.0065 - acc: 0.9987 - val_loss: 0.2173 - val_acc: 0.9538\n",
      "\n",
      "Epoch 00013: val_loss did not improve from 0.16853\n",
      "Epoch 14/40\n",
      "8578/8578 [==============================] - 251s 29ms/step - loss: 0.0061 - acc: 0.9987 - val_loss: 0.2075 - val_acc: 0.9529\n",
      "\n",
      "Epoch 00014: val_loss did not improve from 0.16853\n",
      "Epoch 15/40\n",
      "8578/8578 [==============================] - 249s 29ms/step - loss: 0.0042 - acc: 0.9992 - val_loss: 0.2127 - val_acc: 0.9543\n",
      "\n",
      "Epoch 00015: val_loss did not improve from 0.16853\n",
      "Epoch 16/40\n",
      "8578/8578 [==============================] - 249s 29ms/step - loss: 0.0034 - acc: 0.9991 - val_loss: 0.2242 - val_acc: 0.9473\n",
      "\n",
      "Epoch 00016: val_loss did not improve from 0.16853\n",
      "Epoch 17/40\n",
      "8578/8578 [==============================] - 250s 29ms/step - loss: 0.0026 - acc: 0.9994 - val_loss: 0.2191 - val_acc: 0.9520\n",
      "\n",
      "Epoch 00017: val_loss did not improve from 0.16853\n",
      "Epoch 18/40\n",
      "8578/8578 [==============================] - 250s 29ms/step - loss: 0.0039 - acc: 0.9993 - val_loss: 0.2537 - val_acc: 0.9464\n",
      "\n",
      "Epoch 00018: val_loss did not improve from 0.16853\n",
      "Epoch 19/40\n",
      "8578/8578 [==============================] - 220s 26ms/step - loss: 0.0060 - acc: 0.9985 - val_loss: 0.2155 - val_acc: 0.9515\n",
      "\n",
      "Epoch 00019: val_loss did not improve from 0.16853\n",
      "Epoch 20/40\n",
      "8578/8578 [==============================] - 210s 25ms/step - loss: 0.0043 - acc: 0.9987 - val_loss: 0.2391 - val_acc: 0.9529\n",
      "\n",
      "Epoch 00020: val_loss did not improve from 0.16853\n",
      "Epoch 21/40\n",
      "8578/8578 [==============================] - 210s 24ms/step - loss: 0.0037 - acc: 0.9990 - val_loss: 0.2215 - val_acc: 0.9538\n",
      "\n",
      "Epoch 00021: val_loss did not improve from 0.16853\n",
      "Epoch 22/40\n",
      "8578/8578 [==============================] - 209s 24ms/step - loss: 0.0033 - acc: 0.9993 - val_loss: 0.2226 - val_acc: 0.9492\n",
      "\n",
      "Epoch 00022: val_loss did not improve from 0.16853\n",
      "Epoch 23/40\n",
      "8578/8578 [==============================] - 209s 24ms/step - loss: 0.0022 - acc: 0.9993 - val_loss: 0.2351 - val_acc: 0.9529\n",
      "\n",
      "Epoch 00023: val_loss did not improve from 0.16853\n",
      "Epoch 24/40\n",
      "8578/8578 [==============================] - 209s 24ms/step - loss: 0.0052 - acc: 0.9992 - val_loss: 0.2503 - val_acc: 0.9497\n",
      "\n",
      "Epoch 00024: val_loss did not improve from 0.16853\n",
      "Epoch 25/40\n",
      "8578/8578 [==============================] - 211s 25ms/step - loss: 0.0020 - acc: 0.9994 - val_loss: 0.2347 - val_acc: 0.9506\n",
      "\n",
      "Epoch 00025: val_loss did not improve from 0.16853\n",
      "Epoch 26/40\n",
      "8578/8578 [==============================] - 208s 24ms/step - loss: 0.0022 - acc: 0.9993 - val_loss: 0.2529 - val_acc: 0.9510\n",
      "\n",
      "Epoch 00026: val_loss did not improve from 0.16853\n",
      "Epoch 27/40\n",
      "8578/8578 [==============================] - 208s 24ms/step - loss: 0.0046 - acc: 0.9986 - val_loss: 0.2663 - val_acc: 0.9510\n",
      "\n",
      "Epoch 00027: val_loss did not improve from 0.16853\n",
      "Epoch 28/40\n",
      "8578/8578 [==============================] - 208s 24ms/step - loss: 0.0029 - acc: 0.9994 - val_loss: 0.2696 - val_acc: 0.9501\n",
      "\n",
      "Epoch 00028: val_loss did not improve from 0.16853\n",
      "Epoch 29/40\n",
      "8578/8578 [==============================] - 208s 24ms/step - loss: 0.0011 - acc: 0.9999 - val_loss: 0.2784 - val_acc: 0.9445\n",
      "\n",
      "Epoch 00029: val_loss did not improve from 0.16853\n",
      "Epoch 30/40\n",
      "8578/8578 [==============================] - 208s 24ms/step - loss: 0.0019 - acc: 0.9993 - val_loss: 0.2777 - val_acc: 0.9473\n",
      "\n",
      "Epoch 00030: val_loss did not improve from 0.16853\n",
      "Epoch 31/40\n",
      "8578/8578 [==============================] - 208s 24ms/step - loss: 0.0035 - acc: 0.9990 - val_loss: 0.2947 - val_acc: 0.9450\n",
      "\n",
      "Epoch 00031: val_loss did not improve from 0.16853\n",
      "Epoch 32/40\n",
      "8578/8578 [==============================] - 208s 24ms/step - loss: 0.0049 - acc: 0.9984 - val_loss: 0.2978 - val_acc: 0.9483\n",
      "\n",
      "Epoch 00032: val_loss did not improve from 0.16853\n",
      "Epoch 33/40\n",
      "8578/8578 [==============================] - 208s 24ms/step - loss: 0.0028 - acc: 0.9987 - val_loss: 0.3024 - val_acc: 0.9478\n",
      "\n",
      "Epoch 00033: val_loss did not improve from 0.16853\n",
      "Epoch 34/40\n",
      "8578/8578 [==============================] - 208s 24ms/step - loss: 0.0051 - acc: 0.9978 - val_loss: 0.2949 - val_acc: 0.9399\n",
      "\n",
      "Epoch 00034: val_loss did not improve from 0.16853\n",
      "Epoch 35/40\n",
      "8578/8578 [==============================] - 208s 24ms/step - loss: 0.0060 - acc: 0.9978 - val_loss: 0.2817 - val_acc: 0.9413\n",
      "\n",
      "Epoch 00035: val_loss did not improve from 0.16853\n",
      "Epoch 36/40\n",
      "8578/8578 [==============================] - 208s 24ms/step - loss: 0.0018 - acc: 0.9992 - val_loss: 0.2982 - val_acc: 0.9436\n",
      "\n",
      "Epoch 00036: val_loss did not improve from 0.16853\n",
      "Epoch 37/40\n",
      "8578/8578 [==============================] - 208s 24ms/step - loss: 0.0012 - acc: 0.9997 - val_loss: 0.3104 - val_acc: 0.9413\n",
      "\n",
      "Epoch 00037: val_loss did not improve from 0.16853\n",
      "Epoch 38/40\n",
      "8578/8578 [==============================] - 208s 24ms/step - loss: 0.0022 - acc: 0.9993 - val_loss: 0.3426 - val_acc: 0.9394\n",
      "\n",
      "Epoch 00038: val_loss did not improve from 0.16853\n",
      "Epoch 39/40\n",
      "8578/8578 [==============================] - 209s 24ms/step - loss: 0.0029 - acc: 0.9992 - val_loss: 0.3240 - val_acc: 0.9413\n",
      "\n",
      "Epoch 00039: val_loss did not improve from 0.16853\n",
      "Epoch 40/40\n",
      "8578/8578 [==============================] - 208s 24ms/step - loss: 0.0012 - acc: 0.9997 - val_loss: 0.3528 - val_acc: 0.9399\n",
      "\n",
      "Epoch 00040: val_loss did not improve from 0.16853\n"
     ]
    }
   ],
   "source": [
    "print('Second model, using Google\\'s word2vec word embedding')\n",
    "\n",
    "model_google = create_model(embedding_layer_google)\n",
    "model_google.compile(\n",
    "    loss='categorical_crossentropy',\n",
    "    optimizer=optimizers.Adam(),\n",
    "    metrics=['accuracy']\n",
    ")\n",
    "\n",
    "history = model_google.fit(\n",
    "    X_train, y_train,\n",
    "    epochs=NB_EPOCHS,\n",
    "    batch_size=BATCH_SIZE,\n",
    "    verbose=1,\n",
    "    validation_data=(X_val, y_val),\n",
    "    callbacks=[ # Save the model in a file in the same directory as this notebook\n",
    "        ModelCheckpoint(\n",
    "            'models/model_google', monitor='val_loss', verbose=1, save_best_only=True, mode='min'\n",
    "        ),\n",
    "    ]\n",
    ")\n",
    "\n",
    "histories.append(history.history)"
   ]
  },
  {
   "cell_type": "code",
   "execution_count": 75,
   "metadata": {},
   "outputs": [
    {
     "name": "stdout",
     "output_type": "stream",
     "text": [
      "Third model, using FastText's WikiNews word embedding\n",
      "Train on 8578 samples, validate on 2145 samples\n",
      "Epoch 1/40\n",
      "8578/8578 [==============================] - 211s 25ms/step - loss: 2.2072 - acc: 0.4099 - val_loss: 0.5287 - val_acc: 0.8811\n",
      "\n",
      "Epoch 00001: val_loss improved from inf to 0.52866, saving model to models/model_wikinews\n",
      "Epoch 2/40\n",
      "8578/8578 [==============================] - 209s 24ms/step - loss: 0.2693 - acc: 0.9291 - val_loss: 0.1821 - val_acc: 0.9529\n",
      "\n",
      "Epoch 00002: val_loss improved from 0.52866 to 0.18210, saving model to models/model_wikinews\n",
      "Epoch 3/40\n",
      "8578/8578 [==============================] - 209s 24ms/step - loss: 0.0960 - acc: 0.9748 - val_loss: 0.1449 - val_acc: 0.9585\n",
      "\n",
      "Epoch 00003: val_loss improved from 0.18210 to 0.14485, saving model to models/model_wikinews\n",
      "Epoch 4/40\n",
      "8578/8578 [==============================] - 209s 24ms/step - loss: 0.0421 - acc: 0.9895 - val_loss: 0.1443 - val_acc: 0.9613\n",
      "\n",
      "Epoch 00004: val_loss improved from 0.14485 to 0.14432, saving model to models/model_wikinews\n",
      "Epoch 5/40\n",
      "8578/8578 [==============================] - 208s 24ms/step - loss: 0.0224 - acc: 0.9948 - val_loss: 0.1504 - val_acc: 0.9552\n",
      "\n",
      "Epoch 00005: val_loss did not improve from 0.14432\n",
      "Epoch 6/40\n",
      "8578/8578 [==============================] - 209s 24ms/step - loss: 0.0137 - acc: 0.9972 - val_loss: 0.1473 - val_acc: 0.9604\n",
      "\n",
      "Epoch 00006: val_loss did not improve from 0.14432\n",
      "Epoch 7/40\n",
      "8578/8578 [==============================] - 209s 24ms/step - loss: 0.0114 - acc: 0.9973 - val_loss: 0.1450 - val_acc: 0.9641\n",
      "\n",
      "Epoch 00007: val_loss did not improve from 0.14432\n",
      "Epoch 8/40\n",
      "8578/8578 [==============================] - 205s 24ms/step - loss: 0.0082 - acc: 0.9986 - val_loss: 0.1489 - val_acc: 0.9622\n",
      "\n",
      "Epoch 00008: val_loss did not improve from 0.14432\n",
      "Epoch 9/40\n",
      "8578/8578 [==============================] - 204s 24ms/step - loss: 0.0091 - acc: 0.9977 - val_loss: 0.1549 - val_acc: 0.9622\n",
      "\n",
      "Epoch 00009: val_loss did not improve from 0.14432\n",
      "Epoch 10/40\n",
      "8578/8578 [==============================] - 207s 24ms/step - loss: 0.0047 - acc: 0.9987 - val_loss: 0.1652 - val_acc: 0.9604\n",
      "\n",
      "Epoch 00010: val_loss did not improve from 0.14432\n",
      "Epoch 11/40\n",
      "8578/8578 [==============================] - 208s 24ms/step - loss: 0.0043 - acc: 0.9992 - val_loss: 0.1564 - val_acc: 0.9594\n",
      "\n",
      "Epoch 00011: val_loss did not improve from 0.14432\n",
      "Epoch 12/40\n",
      "8578/8578 [==============================] - 208s 24ms/step - loss: 0.0037 - acc: 0.9994 - val_loss: 0.1657 - val_acc: 0.9599\n",
      "\n",
      "Epoch 00012: val_loss did not improve from 0.14432\n",
      "Epoch 13/40\n",
      "8578/8578 [==============================] - 209s 24ms/step - loss: 0.0027 - acc: 0.9994 - val_loss: 0.1729 - val_acc: 0.9576\n",
      "\n",
      "Epoch 00013: val_loss did not improve from 0.14432\n",
      "Epoch 14/40\n",
      "8578/8578 [==============================] - 209s 24ms/step - loss: 0.0027 - acc: 0.9993 - val_loss: 0.1671 - val_acc: 0.9618\n",
      "\n",
      "Epoch 00014: val_loss did not improve from 0.14432\n",
      "Epoch 15/40\n",
      "8578/8578 [==============================] - 209s 24ms/step - loss: 0.0038 - acc: 0.9988 - val_loss: 0.1816 - val_acc: 0.9562\n",
      "\n",
      "Epoch 00015: val_loss did not improve from 0.14432\n",
      "Epoch 16/40\n",
      "8578/8578 [==============================] - 210s 24ms/step - loss: 0.0052 - acc: 0.9987 - val_loss: 0.1907 - val_acc: 0.9580\n",
      "\n",
      "Epoch 00016: val_loss did not improve from 0.14432\n",
      "Epoch 17/40\n",
      "8578/8578 [==============================] - 211s 25ms/step - loss: 0.0020 - acc: 0.9994 - val_loss: 0.1984 - val_acc: 0.9534\n",
      "\n",
      "Epoch 00017: val_loss did not improve from 0.14432\n",
      "Epoch 18/40\n",
      "8578/8578 [==============================] - 209s 24ms/step - loss: 0.0012 - acc: 0.9998 - val_loss: 0.1766 - val_acc: 0.9599\n",
      "\n",
      "Epoch 00018: val_loss did not improve from 0.14432\n",
      "Epoch 19/40\n",
      "8578/8578 [==============================] - 209s 24ms/step - loss: 9.5756e-04 - acc: 0.9997 - val_loss: 0.1806 - val_acc: 0.9576\n",
      "\n",
      "Epoch 00019: val_loss did not improve from 0.14432\n",
      "Epoch 20/40\n",
      "8578/8578 [==============================] - 210s 24ms/step - loss: 0.0015 - acc: 0.9998 - val_loss: 0.1870 - val_acc: 0.9580\n",
      "\n",
      "Epoch 00020: val_loss did not improve from 0.14432\n",
      "Epoch 21/40\n",
      "8578/8578 [==============================] - 209s 24ms/step - loss: 0.0029 - acc: 0.9991 - val_loss: 0.2015 - val_acc: 0.9524\n",
      "\n",
      "Epoch 00021: val_loss did not improve from 0.14432\n",
      "Epoch 22/40\n",
      "8578/8578 [==============================] - 208s 24ms/step - loss: 0.0014 - acc: 0.9997 - val_loss: 0.1849 - val_acc: 0.9552\n",
      "\n",
      "Epoch 00022: val_loss did not improve from 0.14432\n",
      "Epoch 23/40\n",
      "8578/8578 [==============================] - 208s 24ms/step - loss: 0.0021 - acc: 0.9994 - val_loss: 0.1892 - val_acc: 0.9580\n",
      "\n",
      "Epoch 00023: val_loss did not improve from 0.14432\n",
      "Epoch 24/40\n",
      "8578/8578 [==============================] - 209s 24ms/step - loss: 0.0013 - acc: 0.9997 - val_loss: 0.1904 - val_acc: 0.9552\n",
      "\n",
      "Epoch 00024: val_loss did not improve from 0.14432\n",
      "Epoch 25/40\n",
      "8578/8578 [==============================] - 212s 25ms/step - loss: 7.1389e-04 - acc: 0.9998 - val_loss: 0.1946 - val_acc: 0.9548\n",
      "\n",
      "Epoch 00025: val_loss did not improve from 0.14432\n",
      "Epoch 26/40\n",
      "8578/8578 [==============================] - 209s 24ms/step - loss: 8.5318e-04 - acc: 0.9998 - val_loss: 0.1986 - val_acc: 0.9538\n",
      "\n",
      "Epoch 00026: val_loss did not improve from 0.14432\n",
      "Epoch 27/40\n",
      "8578/8578 [==============================] - 209s 24ms/step - loss: 0.0019 - acc: 0.9997 - val_loss: 0.1884 - val_acc: 0.9562\n",
      "\n",
      "Epoch 00027: val_loss did not improve from 0.14432\n",
      "Epoch 28/40\n",
      "8578/8578 [==============================] - 209s 24ms/step - loss: 6.1976e-04 - acc: 0.9999 - val_loss: 0.1963 - val_acc: 0.9585\n",
      "\n",
      "Epoch 00028: val_loss did not improve from 0.14432\n",
      "Epoch 29/40\n",
      "8578/8578 [==============================] - 209s 24ms/step - loss: 8.8080e-04 - acc: 0.9997 - val_loss: 0.2289 - val_acc: 0.9459\n",
      "\n",
      "Epoch 00029: val_loss did not improve from 0.14432\n",
      "Epoch 30/40\n",
      "8578/8578 [==============================] - 209s 24ms/step - loss: 0.0027 - acc: 0.9990 - val_loss: 0.2184 - val_acc: 0.9501\n",
      "\n",
      "Epoch 00030: val_loss did not improve from 0.14432\n",
      "Epoch 31/40\n",
      "8578/8578 [==============================] - 210s 25ms/step - loss: 0.0017 - acc: 0.9994 - val_loss: 0.2303 - val_acc: 0.9506\n",
      "\n",
      "Epoch 00031: val_loss did not improve from 0.14432\n",
      "Epoch 32/40\n",
      "8578/8578 [==============================] - 210s 24ms/step - loss: 0.0022 - acc: 0.9995 - val_loss: 0.2351 - val_acc: 0.9524\n",
      "\n",
      "Epoch 00032: val_loss did not improve from 0.14432\n",
      "Epoch 33/40\n",
      "8578/8578 [==============================] - 211s 25ms/step - loss: 0.0020 - acc: 0.9994 - val_loss: 0.2550 - val_acc: 0.9501\n",
      "\n",
      "Epoch 00033: val_loss did not improve from 0.14432\n",
      "Epoch 34/40\n",
      "8578/8578 [==============================] - 210s 24ms/step - loss: 0.0018 - acc: 0.9992 - val_loss: 0.2482 - val_acc: 0.9473\n",
      "\n",
      "Epoch 00034: val_loss did not improve from 0.14432\n",
      "Epoch 35/40\n",
      "8578/8578 [==============================] - 210s 24ms/step - loss: 0.0013 - acc: 0.9997 - val_loss: 0.2586 - val_acc: 0.9487\n",
      "\n",
      "Epoch 00035: val_loss did not improve from 0.14432\n",
      "Epoch 36/40\n",
      "8578/8578 [==============================] - 212s 25ms/step - loss: 0.0017 - acc: 0.9995 - val_loss: 0.2482 - val_acc: 0.9515\n",
      "\n",
      "Epoch 00036: val_loss did not improve from 0.14432\n",
      "Epoch 37/40\n",
      "8578/8578 [==============================] - 211s 25ms/step - loss: 0.0013 - acc: 0.9995 - val_loss: 0.2776 - val_acc: 0.9483\n",
      "\n",
      "Epoch 00037: val_loss did not improve from 0.14432\n",
      "Epoch 38/40\n",
      "8578/8578 [==============================] - 211s 25ms/step - loss: 9.2508e-04 - acc: 0.9998 - val_loss: 0.2740 - val_acc: 0.9487\n",
      "\n",
      "Epoch 00038: val_loss did not improve from 0.14432\n",
      "Epoch 39/40\n",
      "8578/8578 [==============================] - 210s 24ms/step - loss: 0.0024 - acc: 0.9990 - val_loss: 0.3223 - val_acc: 0.9422\n",
      "\n",
      "Epoch 00039: val_loss did not improve from 0.14432\n",
      "Epoch 40/40\n",
      "8578/8578 [==============================] - 212s 25ms/step - loss: 0.0038 - acc: 0.9984 - val_loss: 0.2530 - val_acc: 0.9524\n",
      "\n",
      "Epoch 00040: val_loss did not improve from 0.14432\n"
     ]
    }
   ],
   "source": [
    "print('Third model, using FastText\\'s WikiNews word embedding')\n",
    "\n",
    "model_wikinews = create_model(embedding_layer_wikinews)\n",
    "model_wikinews.compile(\n",
    "    loss='categorical_crossentropy',\n",
    "    optimizer=optimizers.Adam(),\n",
    "    metrics=['accuracy']\n",
    ")\n",
    "\n",
    "history = model_wikinews.fit(\n",
    "    X_train, y_train,\n",
    "    epochs=NB_EPOCHS,\n",
    "    batch_size=BATCH_SIZE,\n",
    "    verbose=1,\n",
    "    validation_data=(X_val, y_val),\n",
    "    callbacks=[ # Save the model in a file in the same directory as this notebook\n",
    "        ModelCheckpoint(\n",
    "            'models/model_wikinews', monitor='val_loss', verbose=1, save_best_only=True, mode='min'\n",
    "        ),\n",
    "    ]\n",
    ")\n",
    "\n",
    "histories.append(history.history)"
   ]
  },
  {
   "cell_type": "code",
   "execution_count": 15,
   "metadata": {},
   "outputs": [
    {
     "name": "stdout",
     "output_type": "stream",
     "text": [
      "Fourth model, using FastText's Crawl word embedding\n",
      "Train on 8578 samples, validate on 2145 samples\n",
      "Epoch 1/40\n",
      "8578/8578 [==============================] - 214s 25ms/step - loss: 2.5507 - acc: 0.2392 - val_loss: 1.4539 - val_acc: 0.5846\n",
      "\n",
      "Epoch 00001: val_loss improved from inf to 1.45386, saving model to models/model_crawl\n",
      "Epoch 2/40\n",
      "8578/8578 [==============================] - 213s 25ms/step - loss: 0.9678 - acc: 0.6823 - val_loss: 0.6385 - val_acc: 0.7991\n",
      "\n",
      "Epoch 00002: val_loss improved from 1.45386 to 0.63852, saving model to models/model_crawl\n",
      "Epoch 3/40\n",
      "8578/8578 [==============================] - 211s 25ms/step - loss: 0.5220 - acc: 0.8378 - val_loss: 0.4698 - val_acc: 0.8490\n",
      "\n",
      "Epoch 00003: val_loss improved from 0.63852 to 0.46980, saving model to models/model_crawl\n",
      "Epoch 4/40\n",
      "8578/8578 [==============================] - 211s 25ms/step - loss: 0.3397 - acc: 0.8922 - val_loss: 0.3865 - val_acc: 0.8797\n",
      "\n",
      "Epoch 00004: val_loss improved from 0.46980 to 0.38652, saving model to models/model_crawl\n",
      "Epoch 5/40\n",
      "8578/8578 [==============================] - 210s 25ms/step - loss: 0.2205 - acc: 0.9320 - val_loss: 0.3375 - val_acc: 0.8923\n",
      "\n",
      "Epoch 00005: val_loss improved from 0.38652 to 0.33754, saving model to models/model_crawl\n",
      "Epoch 6/40\n",
      "8578/8578 [==============================] - 211s 25ms/step - loss: 0.1306 - acc: 0.9633 - val_loss: 0.3312 - val_acc: 0.9026\n",
      "\n",
      "Epoch 00006: val_loss improved from 0.33754 to 0.33119, saving model to models/model_crawl\n",
      "Epoch 7/40\n",
      "8578/8578 [==============================] - 211s 25ms/step - loss: 0.0845 - acc: 0.9794 - val_loss: 0.3143 - val_acc: 0.9021\n",
      "\n",
      "Epoch 00007: val_loss improved from 0.33119 to 0.31429, saving model to models/model_crawl\n",
      "Epoch 8/40\n",
      "8578/8578 [==============================] - 210s 24ms/step - loss: 0.0529 - acc: 0.9860 - val_loss: 0.3062 - val_acc: 0.9133\n",
      "\n",
      "Epoch 00008: val_loss improved from 0.31429 to 0.30623, saving model to models/model_crawl\n",
      "Epoch 9/40\n",
      "8578/8578 [==============================] - 207s 24ms/step - loss: 0.0389 - acc: 0.9904 - val_loss: 0.3094 - val_acc: 0.9114\n",
      "\n",
      "Epoch 00009: val_loss did not improve from 0.30623\n",
      "Epoch 10/40\n",
      "8578/8578 [==============================] - 207s 24ms/step - loss: 0.0257 - acc: 0.9937 - val_loss: 0.3092 - val_acc: 0.9110\n",
      "\n",
      "Epoch 00010: val_loss did not improve from 0.30623\n",
      "Epoch 11/40\n",
      "8578/8578 [==============================] - 209s 24ms/step - loss: 0.0186 - acc: 0.9962 - val_loss: 0.3252 - val_acc: 0.9128\n",
      "\n",
      "Epoch 00011: val_loss did not improve from 0.30623\n",
      "Epoch 12/40\n",
      "8578/8578 [==============================] - 207s 24ms/step - loss: 0.0166 - acc: 0.9962 - val_loss: 0.3373 - val_acc: 0.9147\n",
      "\n",
      "Epoch 00012: val_loss did not improve from 0.30623\n",
      "Epoch 13/40\n",
      "8578/8578 [==============================] - 207s 24ms/step - loss: 0.0136 - acc: 0.9964 - val_loss: 0.3248 - val_acc: 0.9193\n",
      "\n",
      "Epoch 00013: val_loss did not improve from 0.30623\n",
      "Epoch 14/40\n",
      "8578/8578 [==============================] - 207s 24ms/step - loss: 0.0117 - acc: 0.9976 - val_loss: 0.3460 - val_acc: 0.9156\n",
      "\n",
      "Epoch 00014: val_loss did not improve from 0.30623\n",
      "Epoch 15/40\n",
      "8578/8578 [==============================] - 210s 24ms/step - loss: 0.0103 - acc: 0.9974 - val_loss: 0.3307 - val_acc: 0.9175\n",
      "\n",
      "Epoch 00015: val_loss did not improve from 0.30623\n",
      "Epoch 16/40\n",
      "8578/8578 [==============================] - 209s 24ms/step - loss: 0.0104 - acc: 0.9978 - val_loss: 0.3485 - val_acc: 0.9170\n",
      "\n",
      "Epoch 00016: val_loss did not improve from 0.30623\n",
      "Epoch 17/40\n",
      "8578/8578 [==============================] - 210s 24ms/step - loss: 0.0088 - acc: 0.9978 - val_loss: 0.3589 - val_acc: 0.9175\n",
      "\n",
      "Epoch 00017: val_loss did not improve from 0.30623\n",
      "Epoch 18/40\n",
      "8578/8578 [==============================] - 209s 24ms/step - loss: 0.0061 - acc: 0.9987 - val_loss: 0.3583 - val_acc: 0.9156\n",
      "\n",
      "Epoch 00018: val_loss did not improve from 0.30623\n",
      "Epoch 19/40\n",
      "8578/8578 [==============================] - 209s 24ms/step - loss: 0.0057 - acc: 0.9985 - val_loss: 0.3618 - val_acc: 0.9142\n",
      "\n",
      "Epoch 00019: val_loss did not improve from 0.30623\n",
      "Epoch 20/40\n",
      "8578/8578 [==============================] - 209s 24ms/step - loss: 0.0058 - acc: 0.9991 - val_loss: 0.3932 - val_acc: 0.9124\n",
      "\n",
      "Epoch 00020: val_loss did not improve from 0.30623\n",
      "Epoch 21/40\n",
      "8578/8578 [==============================] - 208s 24ms/step - loss: 0.0075 - acc: 0.9986 - val_loss: 0.3724 - val_acc: 0.9221\n",
      "\n",
      "Epoch 00021: val_loss did not improve from 0.30623\n",
      "Epoch 22/40\n",
      "8578/8578 [==============================] - 213s 25ms/step - loss: 0.0064 - acc: 0.9986 - val_loss: 0.3705 - val_acc: 0.9198\n",
      "\n",
      "Epoch 00022: val_loss did not improve from 0.30623\n",
      "Epoch 23/40\n",
      "8578/8578 [==============================] - 261s 30ms/step - loss: 0.0049 - acc: 0.9987 - val_loss: 0.3974 - val_acc: 0.9184\n",
      "\n",
      "Epoch 00023: val_loss did not improve from 0.30623\n",
      "Epoch 24/40\n",
      "8578/8578 [==============================] - 367s 43ms/step - loss: 0.0088 - acc: 0.9981 - val_loss: 0.3809 - val_acc: 0.9138\n",
      "\n",
      "Epoch 00024: val_loss did not improve from 0.30623\n",
      "Epoch 25/40\n",
      "8578/8578 [==============================] - 210s 25ms/step - loss: 0.0043 - acc: 0.9987 - val_loss: 0.3977 - val_acc: 0.9175\n",
      "\n",
      "Epoch 00025: val_loss did not improve from 0.30623\n",
      "Epoch 26/40\n",
      "8578/8578 [==============================] - 208s 24ms/step - loss: 0.0057 - acc: 0.9988 - val_loss: 0.4090 - val_acc: 0.9105\n",
      "\n",
      "Epoch 00026: val_loss did not improve from 0.30623\n",
      "Epoch 27/40\n",
      "8578/8578 [==============================] - 208s 24ms/step - loss: 0.0086 - acc: 0.9984 - val_loss: 0.3801 - val_acc: 0.9152\n",
      "\n",
      "Epoch 00027: val_loss did not improve from 0.30623\n",
      "Epoch 28/40\n",
      "8578/8578 [==============================] - 208s 24ms/step - loss: 0.0050 - acc: 0.9990 - val_loss: 0.3797 - val_acc: 0.9221\n",
      "\n",
      "Epoch 00028: val_loss did not improve from 0.30623\n",
      "Epoch 29/40\n",
      "8578/8578 [==============================] - 208s 24ms/step - loss: 0.0042 - acc: 0.9993 - val_loss: 0.4120 - val_acc: 0.9152\n",
      "\n",
      "Epoch 00029: val_loss did not improve from 0.30623\n",
      "Epoch 30/40\n",
      "8578/8578 [==============================] - 207s 24ms/step - loss: 0.0058 - acc: 0.9991 - val_loss: 0.4110 - val_acc: 0.9142\n",
      "\n",
      "Epoch 00030: val_loss did not improve from 0.30623\n",
      "Epoch 31/40\n",
      "8578/8578 [==============================] - 210s 24ms/step - loss: 0.0043 - acc: 0.9988 - val_loss: 0.4326 - val_acc: 0.9100\n",
      "\n",
      "Epoch 00031: val_loss did not improve from 0.30623\n",
      "Epoch 32/40\n",
      "8578/8578 [==============================] - 208s 24ms/step - loss: 0.0055 - acc: 0.9986 - val_loss: 0.4081 - val_acc: 0.9184\n",
      "\n",
      "Epoch 00032: val_loss did not improve from 0.30623\n",
      "Epoch 33/40\n",
      "8578/8578 [==============================] - 209s 24ms/step - loss: 0.0052 - acc: 0.9986 - val_loss: 0.3932 - val_acc: 0.9226\n",
      "\n",
      "Epoch 00033: val_loss did not improve from 0.30623\n",
      "Epoch 34/40\n",
      "8578/8578 [==============================] - 208s 24ms/step - loss: 0.0057 - acc: 0.9980 - val_loss: 0.4179 - val_acc: 0.9142\n",
      "\n",
      "Epoch 00034: val_loss did not improve from 0.30623\n",
      "Epoch 35/40\n",
      "8578/8578 [==============================] - 211s 25ms/step - loss: 0.0068 - acc: 0.9980 - val_loss: 0.4283 - val_acc: 0.9138\n",
      "\n",
      "Epoch 00035: val_loss did not improve from 0.30623\n",
      "Epoch 36/40\n",
      "8578/8578 [==============================] - 210s 25ms/step - loss: 0.0045 - acc: 0.9990 - val_loss: 0.4175 - val_acc: 0.9184\n",
      "\n",
      "Epoch 00036: val_loss did not improve from 0.30623\n",
      "Epoch 37/40\n",
      "8578/8578 [==============================] - 208s 24ms/step - loss: 0.0056 - acc: 0.9979 - val_loss: 0.4490 - val_acc: 0.9175\n",
      "\n",
      "Epoch 00037: val_loss did not improve from 0.30623\n",
      "Epoch 38/40\n",
      "8578/8578 [==============================] - 212s 25ms/step - loss: 0.0044 - acc: 0.9991 - val_loss: 0.4227 - val_acc: 0.9203\n",
      "\n",
      "Epoch 00038: val_loss did not improve from 0.30623\n",
      "Epoch 39/40\n",
      "8578/8578 [==============================] - 208s 24ms/step - loss: 0.0036 - acc: 0.9986 - val_loss: 0.4523 - val_acc: 0.9152\n",
      "\n",
      "Epoch 00039: val_loss did not improve from 0.30623\n",
      "Epoch 40/40\n",
      "8578/8578 [==============================] - 210s 25ms/step - loss: 0.0037 - acc: 0.9988 - val_loss: 0.4254 - val_acc: 0.9179\n",
      "\n",
      "Epoch 00040: val_loss did not improve from 0.30623\n"
     ]
    }
   ],
   "source": [
    "print('Fourth model, using FastText\\'s Crawl word embedding')\n",
    "\n",
    "model_crawl = create_model(embedding_layer_crawl)\n",
    "model_crawl.compile(\n",
    "    loss='categorical_crossentropy',\n",
    "    optimizer=optimizers.Adam(),\n",
    "    metrics=['accuracy']\n",
    ")\n",
    "\n",
    "history = model_crawl.fit(\n",
    "    X_train, y_train,\n",
    "    epochs=NB_EPOCHS,\n",
    "    batch_size=BATCH_SIZE,\n",
    "    verbose=1,\n",
    "    validation_data=(X_val, y_val),\n",
    "    callbacks=[ # Save the model in a file in the same directory as this notebook\n",
    "        ModelCheckpoint(\n",
    "            'models/model_crawl', monitor='val_loss', verbose=1, save_best_only=True, mode='min'\n",
    "        ),\n",
    "    ]\n",
    ")\n",
    "\n",
    "histories.append(history.history)"
   ]
  },
  {
   "cell_type": "code",
   "execution_count": 16,
   "metadata": {},
   "outputs": [],
   "source": [
    "# Save the history in a file in the same directory as this notebook\n",
    "with open('history.pkl', 'wb') as f:\n",
    "    pickle.dump(histories, f)"
   ]
  },
  {
   "cell_type": "markdown",
   "metadata": {},
   "source": [
    "### Results of the training process"
   ]
  },
  {
   "cell_type": "markdown",
   "metadata": {},
   "source": [
    "The performance values can be loaded executing the following cell. If the notebook is closed, there is no need of computing again the models in order to obtain the performance."
   ]
  },
  {
   "cell_type": "code",
   "execution_count": 17,
   "metadata": {},
   "outputs": [],
   "source": [
    "# Load the history if the notebook has been closed after training\n",
    "history_10 = pickle.load(open('history_10.pkl', 'rb'))\n",
    "history = pickle.load(open('history.pkl', 'rb'))"
   ]
  },
  {
   "cell_type": "markdown",
   "metadata": {},
   "source": [
    "This following function is used to plot the performance results."
   ]
  },
  {
   "cell_type": "code",
   "execution_count": 18,
   "metadata": {},
   "outputs": [],
   "source": [
    "def plot_acc_loss(title, histories, key_acc, key_loss):\n",
    "    fig, (ax1, ax2) = plt.subplots(1, 2)\n",
    "    # Accuracy\n",
    "    ax1.set_title('Model accuracy (%s)' % title)\n",
    "    names = []\n",
    "    for i, model in enumerate(histories):\n",
    "        ax1.plot(model[key_acc])\n",
    "        ax1.set_xlabel('epoch')\n",
    "        if(i==0):\n",
    "            names.append('GloVe')\n",
    "        elif(i==1):\n",
    "            names.append('Google')\n",
    "        elif(i==2):\n",
    "            names.append('WikiNews')\n",
    "        else:\n",
    "            names.append('Crawl')\n",
    "        ax1.set_ylabel('accuracy')\n",
    "    ax1.legend(names, loc='lower right')\n",
    "    # Loss\n",
    "    ax2.set_title('Model loss (%s)' % title)\n",
    "    for model in histories:\n",
    "        ax2.plot(model[key_loss])\n",
    "        ax2.set_xlabel('epoch')\n",
    "        ax2.set_ylabel('loss')\n",
    "    ax2.legend(names, loc='upper right')\n",
    "    fig.set_size_inches(20, 5)\n",
    "    plt.show()"
   ]
  },
  {
   "cell_type": "markdown",
   "metadata": {},
   "source": [
    "Results of the models with 10 epochs:"
   ]
  },
  {
   "cell_type": "code",
   "execution_count": 70,
   "metadata": {},
   "outputs": [
    {
     "data": {
      "image/png": "[encoded data removed]",
      "text/plain": [
       "<Figure size 1440x360 with 2 Axes>"
      ]
     },
     "metadata": {
      "needs_background": "light"
     },
     "output_type": "display_data"
    },
    {
     "data": {
      "image/png": "[encoded data removed]",
      "text/plain": [
       "<Figure size 1440x360 with 2 Axes>"
      ]
     },
     "metadata": {
      "needs_background": "light"
     },
     "output_type": "display_data"
    }
   ],
   "source": [
    "plot_acc_loss('training', history_10, 'acc', 'loss')\n",
    "plot_acc_loss('validation', history_10, 'val_acc', 'val_loss')"
   ]
  },
  {
   "cell_type": "markdown",
   "metadata": {},
   "source": [
    "Results of the models with 40 epochs"
   ]
  },
  {
   "cell_type": "code",
   "execution_count": 19,
   "metadata": {},
   "outputs": [
    {
     "data": {
      "image/png": "[encoded data removed]",
      "text/plain": [
       "<Figure size 1440x360 with 2 Axes>"
      ]
     },
     "metadata": {
      "needs_background": "light"
     },
     "output_type": "display_data"
    },
    {
     "data": {
      "image/png": "[encoded data removed]",
      "text/plain": [
       "<Figure size 1440x360 with 2 Axes>"
      ]
     },
     "metadata": {
      "needs_background": "light"
     },
     "output_type": "display_data"
    }
   ],
   "source": [
    "plot_acc_loss('training', history, 'acc', 'loss')\n",
    "plot_acc_loss('validation', history, 'val_acc', 'val_loss')"
   ]
  },
  {
   "cell_type": "markdown",
   "metadata": {},
   "source": [
    "## Testing of the model"
   ]
  },
  {
   "cell_type": "markdown",
   "metadata": {},
   "source": [
    "As in the beggining, the testing files are loaded here and also the corresponding labels."
   ]
  },
  {
   "cell_type": "code",
   "execution_count": 20,
   "metadata": {},
   "outputs": [
    {
     "name": "stdout",
     "output_type": "stream",
     "text": [
      "Testing samples: 7138\n"
     ]
    }
   ],
   "source": [
    "doc_test1 = read_files(\"./data/20news-bydate-test/alt.atheism\")\n",
    "doc_test2 = read_files(\"./data/20news-bydate-test/comp.graphics\")\n",
    "doc_test3 = read_files(\"./data/20news-bydate-test/comp.os.windows.misc\")\n",
    "doc_test4 = read_files(\"./data/20news-bydate-test/comp.sys.ibm.pc.hardware\")\n",
    "doc_test5 = read_files(\"./data/20news-bydate-test/comp.sys.mac.hardware\")\n",
    "doc_test6 = read_files(\"./data/20news-bydate-test/comp.windows.x\")\n",
    "doc_test7 = read_files(\"./data/20news-bydate-test/misc.forsale\")\n",
    "doc_test8 = read_files(\"./data/20news-bydate-test/rec.autos\")\n",
    "doc_test9 = read_files(\"./data/20news-bydate-test/rec.motorcycles\")\n",
    "doc_test10 = read_files(\"./data/20news-bydate-test/rec.sport.baseball\")\n",
    "doc_test11 = read_files(\"./data/20news-bydate-test/rec.sport.hockey\")\n",
    "doc_test12 = read_files(\"./data/20news-bydate-test/sci.crypt\")\n",
    "doc_test13 = read_files(\"./data/20news-bydate-test/sci.electronics\")\n",
    "doc_test14 = read_files(\"./data/20news-bydate-test/sci.med\")\n",
    "doc_test15 = read_files(\"./data/20news-bydate-test/sci.space\")\n",
    "doc_test16 = read_files(\"./data/20news-bydate-test/soc.religion.christian\")\n",
    "doc_test17 = read_files(\"./data/20news-bydate-test/talk.politics.guns\")\n",
    "doc_test18 = read_files(\"./data/20news-bydate-test/talk.politics.mideast\")\n",
    "doc_test19 = read_files(\"./data/20news-bydate-test/talk.politics.misc\")\n",
    "doc_test20 = read_files(\"./data/20news-bydate-test/talk.religion.misc\")\n",
    "\n",
    "X_test   = doc_test1 + doc_test2 + doc_test3 + doc_test4 + doc_test5 + doc_test6 + doc_test7 + doc_test8 + doc_test9 + \\\n",
    "    doc_test10 + doc_test11 + doc_test12 + doc_test13 + doc_test14 + doc_test15 + doc_test16 + doc_test17 + doc_test18 + doc_test19 + doc_test20\n",
    "    \n",
    "y_test = [0 for _ in range(len(doc_test1))] + [1 for _ in range(len(doc_test2))] + [2 for _ in range(len(doc_test3))] \\\n",
    "    + [3 for _ in range(len(doc_test4))] + [4 for _ in range(len(doc_test5))] + [5 for _ in range(len(doc_test6))] \\\n",
    "    + [6 for _ in range(len(doc_test7))] + [7 for _ in range(len(doc_test8))] + [8 for _ in range(len(doc_test9))] \\\n",
    "    + [9 for _ in range(len(doc_test10))] + [10 for _ in range(len(doc_test11))] + [11 for _ in range(len(doc_test12))] \\\n",
    "    + [12 for _ in range(len(doc_test13))] + [13 for _ in range(len(doc_test14))] + [14 for _ in range(len(doc_test15))] \\\n",
    "    + [15 for _ in range(len(doc_test16))] + [16 for _ in range(len(doc_test17))] + [17 for _ in range(len(doc_test18))] \\\n",
    "    + [18 for _ in range(len(doc_test19))] + [19 for _ in range(len(doc_test20))]\n",
    "\n",
    "y_test = to_categorical(y_test)\n",
    "print('Testing samples: %i' % len(X_test))"
   ]
  },
  {
   "cell_type": "markdown",
   "metadata": {},
   "source": [
    "Tokenization of the sentences."
   ]
  },
  {
   "cell_type": "code",
   "execution_count": 21,
   "metadata": {},
   "outputs": [],
   "source": [
    "sequences_test = tokenizer.texts_to_sequences(X_test)\n",
    "X_test = pad_sequences(sequences_test, maxlen=MAX_SEQ_LENGTH, padding='post')"
   ]
  },
  {
   "cell_type": "markdown",
   "metadata": {},
   "source": [
    "Import the models that were trained and saved before. Thanks to saving the models previously, there is no need of computing the models again after closing the notebook to test the models."
   ]
  },
  {
   "cell_type": "code",
   "execution_count": 22,
   "metadata": {},
   "outputs": [],
   "source": [
    "cnn_model_glove_10 = load_model(\"models/model_glove_10\")\n",
    "cnn_model_google_10 = load_model(\"models/model_google_10\")\n",
    "cnn_model_wikinews_10 = load_model(\"models/model_wikinews_10\")\n",
    "cnn_model_crawl_10 = load_model(\"models/model_crawl_10\")\n",
    "\n",
    "cnn_model_glove = load_model(\"models/model_glove\")\n",
    "cnn_model_google = load_model(\"models/model_google\")\n",
    "cnn_model_wikinews = load_model(\"models/model_wikinews\")\n",
    "cnn_model_crawl = load_model(\"models/model_crawl\")"
   ]
  },
  {
   "cell_type": "markdown",
   "metadata": {},
   "source": [
    "Compute the accuracy and loss value for the test data with the 10 epochs models."
   ]
  },
  {
   "cell_type": "code",
   "execution_count": 25,
   "metadata": {},
   "outputs": [
    {
     "name": "stdout",
     "output_type": "stream",
     "text": [
      "7138/7138 [==============================] - 43s 6ms/step\n",
      "Running test with the GloVe (10) model: 0.6311 loss / 0.8308 acc\n",
      "7138/7138 [==============================] - 47s 7ms/step\n",
      "Running test with the Google's (10) model: 0.6696 loss / 0.8232 acc\n",
      "7138/7138 [==============================] - 44s 6ms/step\n",
      "Running test with the WikiNews (10) model: 0.6481 loss / 0.8292 acc\n",
      "7138/7138 [==============================] - 42s 6ms/step\n",
      "Running test with the Crawl (10) model: 0.5848 loss / 0.8460 acc\n"
     ]
    }
   ],
   "source": [
    "scores_10 = []\n",
    "\n",
    "score_glove_10 = cnn_model_glove_10.evaluate(X_test, y_test, verbose=1)\n",
    "scores_10.append(score_glove_10)\n",
    "print('Running test with the GloVe (10) model: %0.4f loss / %0.4f acc' % (score_glove_10[0], score_glove_10[1]))\n",
    "\n",
    "score_google_10 = cnn_model_google_10.evaluate(X_test, y_test, verbose=1)\n",
    "scores_10.append(score_google_10)\n",
    "print('Running test with the Google\\'s (10) model: %0.4f loss / %0.4f acc' % (score_google_10[0], score_google_10[1]))\n",
    "\n",
    "score_wikinews_10 = cnn_model_wikinews_10.evaluate(X_test, y_test, verbose=1)\n",
    "scores_10.append(score_wikinews_10)\n",
    "print('Running test with the WikiNews (10) model: %0.4f loss / %0.4f acc' % (score_wikinews_10[0], score_wikinews_10[1]))\n",
    "\n",
    "score_crawl_10 = cnn_model_crawl_10.evaluate(X_test, y_test, verbose=1)\n",
    "scores_10.append(score_crawl_10)\n",
    "print('Running test with the Crawl (10) model: %0.4f loss / %0.4f acc' % (score_crawl_10[0], score_crawl_10[1]))"
   ]
  },
  {
   "cell_type": "markdown",
   "metadata": {},
   "source": [
    "Compute the accuracy and loss value for the test data with the 40 epochs models."
   ]
  },
  {
   "cell_type": "code",
   "execution_count": 26,
   "metadata": {},
   "outputs": [
    {
     "name": "stdout",
     "output_type": "stream",
     "text": [
      "7138/7138 [==============================] - 41s 6ms/step\n",
      "Running test with the GloVe (40) model: 0.7073 loss / 0.8359 acc\n",
      "7138/7138 [==============================] - 41s 6ms/step\n",
      "Running test with the Google's (40) model: 0.7907 loss / 0.8273 acc\n",
      "7138/7138 [==============================] - 42s 6ms/step\n",
      "Running test with the WikiNews (40) model: 0.7174 loss / 0.8298 acc\n",
      "7138/7138 [==============================] - 41s 6ms/step\n",
      "Running test with the Crawl (40) model: 0.5917 loss / 0.8409 acc\n"
     ]
    }
   ],
   "source": [
    "scores_40 = []\n",
    "\n",
    "score_glove = cnn_model_glove.evaluate(X_test, y_test, verbose=1)\n",
    "scores_40.append(score_glove)\n",
    "print('Running test with the GloVe (40) model: %0.4f loss / %0.4f acc' % (score_glove[0], score_glove[1]))\n",
    "\n",
    "score_google = cnn_model_google.evaluate(X_test, y_test, verbose=1)\n",
    "scores_40.append(score_google)\n",
    "print('Running test with the Google\\'s (40) model: %0.4f loss / %0.4f acc' % (score_google[0], score_google[1]))\n",
    "\n",
    "score_wikinews = cnn_model_wikinews.evaluate(X_test, y_test, verbose=1)\n",
    "scores_40.append(score_wikinews)\n",
    "print('Running test with the WikiNews (40) model: %0.4f loss / %0.4f acc' % (score_wikinews[0], score_wikinews[1]))\n",
    "\n",
    "score_crawl = cnn_model_crawl.evaluate(X_test, y_test, verbose=1)\n",
    "scores_40.append(score_crawl)\n",
    "print('Running test with the Crawl (40) model: %0.4f loss / %0.4f acc' % (score_crawl[0], score_crawl[1]))"
   ]
  },
  {
   "cell_type": "markdown",
   "metadata": {},
   "source": [
    "In the next cell a function is defined, able to show a barchar with the given values, in order to compare the values of the models."
   ]
  },
  {
   "cell_type": "code",
   "execution_count": 43,
   "metadata": {},
   "outputs": [],
   "source": [
    "def show_barchar(title, y_label, values_10, values_40):\n",
    "\n",
    "    ind = np.arange(len(values_10))  # the x locations for the groups\n",
    "    width = 0.35  # the width of the bars\n",
    "\n",
    "    fig, ax = plt.subplots()\n",
    "    rects1 = ax.bar(ind - width/2, values_10, width,\n",
    "                    color='SkyBlue', label='10 Epochs')\n",
    "    rects2 = ax.bar(ind + width/2, values_40, width,\n",
    "                    color='IndianRed', label='40 Epochs')\n",
    "\n",
    "    # Add some text for labels, title and custom x-axis tick labels, etc.\n",
    "    ax.set_ylabel(y_label)\n",
    "    ax.set_title(title)\n",
    "    ax.set_xticks(ind)\n",
    "    ax.set_xticklabels(('Glove', 'Google', 'WikiNews', 'Crawl'))\n",
    "    ax.legend()\n",
    "\n",
    "    plt.show()"
   ]
  },
  {
   "cell_type": "code",
   "execution_count": 46,
   "metadata": {},
   "outputs": [
    {
     "data": {
      "image/png": "[encoded data removed]",
      "text/plain": [
       "<Figure size 432x288 with 1 Axes>"
      ]
     },
     "metadata": {
      "needs_background": "light"
     },
     "output_type": "display_data"
    },
    {
     "data": {
      "image/png": "[encoded data removed]",
      "text/plain": [
       "<Figure size 432x288 with 1 Axes>"
      ]
     },
     "metadata": {
      "needs_background": "light"
     },
     "output_type": "display_data"
    }
   ],
   "source": [
    "show_barchar('Accuracy of the models', 'Accuracy', [s[1] for s in scores_10], [s[1] for s in scores_40])\n",
    "show_barchar('Loss of the models', 'Loss', [s[0] for s in scores_10], [s[0] for s in scores_40])"
   ]
  },
  {
   "cell_type": "markdown",
   "metadata": {},
   "source": [
    "## Results and conclusion\n",
    "\n",
    "The conclusion of the results that we obtain here is that the training in 40 epochs is not worth the time, since the ones with the 10 epochs give better performance and loss values. In addition, we can see that the model with 40 eopchs is suffering of overfitting, because of the excess of epochs. The models with 40 epochs are memorizing the training data and this difficutls the generalization. More information about this can be found in the corresponding report.\n",
    "\n",
    "The performance of the models is very good, so we can say that the convolutional neural networks can be used in text analysis and classification with no problem."
   ]
  }
 ],
 "metadata": {
  "kernelspec": {
   "display_name": "Python 3",
   "language": "python",
   "name": "python3"
  },
  "language_info": {
   "codemirror_mode": {
    "name": "ipython",
    "version": 3
   },
   "file_extension": ".py",
   "mimetype": "text/x-python",
   "name": "python",
   "nbconvert_exporter": "python",
   "pygments_lexer": "ipython3",
   "version": "3.6.5"
  }
 },
 "nbformat": 4,
 "nbformat_minor": 2
}
